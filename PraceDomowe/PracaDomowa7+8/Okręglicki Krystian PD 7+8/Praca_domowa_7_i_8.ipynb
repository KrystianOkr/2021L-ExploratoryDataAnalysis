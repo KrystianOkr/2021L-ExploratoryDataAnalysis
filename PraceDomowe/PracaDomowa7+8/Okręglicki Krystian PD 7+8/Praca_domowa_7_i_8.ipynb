{
 "cells": [
  {
   "cell_type": "markdown",
   "metadata": {},
   "source": [
    "# Praca domowa 7+8"
   ]
  },
  {
   "cell_type": "code",
   "execution_count": 93,
   "metadata": {},
   "outputs": [
    {
     "name": "stdout",
     "output_type": "stream",
     "text": [
      "Requirement already satisfied: nycflights13 in c:\\users\\msi\\anaconda3\\lib\\site-packages (0.0.3)\n",
      "Requirement already satisfied: pandas>=0.24.0 in c:\\users\\msi\\anaconda3\\lib\\site-packages (from nycflights13) (1.1.3)\n",
      "Requirement already satisfied: python-dateutil>=2.7.3 in c:\\users\\msi\\anaconda3\\lib\\site-packages (from pandas>=0.24.0->nycflights13) (2.8.1)\n",
      "Requirement already satisfied: pytz>=2017.2 in c:\\users\\msi\\anaconda3\\lib\\site-packages (from pandas>=0.24.0->nycflights13) (2020.1)\n",
      "Requirement already satisfied: numpy>=1.15.4 in c:\\users\\msi\\anaconda3\\lib\\site-packages (from pandas>=0.24.0->nycflights13) (1.19.2)\n",
      "Requirement already satisfied: six>=1.5 in c:\\users\\msi\\anaconda3\\lib\\site-packages (from python-dateutil>=2.7.3->pandas>=0.24.0->nycflights13) (1.15.0)\n"
     ]
    }
   ],
   "source": [
    "import seaborn as sns\n",
    "from matplotlib import pyplot as plt\n",
    "from gapminder import gapminder\n",
    "\n",
    "import pandas as pd\n",
    "import numpy as np\n",
    "from sklearn.datasets import load_iris\n",
    "from IPython.display import Image\n",
    "\n",
    "\n",
    "!pip install nycflights13\n",
    "import pandas as pd\n",
    "import nycflights13\n",
    "\n",
    "\n",
    "import plotly.express as px\n",
    "from gapminder import gapminder\n",
    "import numpy as np\n",
    "import pandas as pd\n",
    "\n",
    "import dash\n",
    "import dash_core_components as dcc\n",
    "import dash_html_components as html\n",
    "from dash.dependencies import Input, Output\n",
    "import plotly.express as px\n",
    "\n",
    "\n",
    "dane = pd.read_csv(\"dane.csv\")"
   ]
  },
  {
   "cell_type": "markdown",
   "metadata": {},
   "source": [
    "## Wykres 1"
   ]
  },
  {
   "cell_type": "code",
   "execution_count": 73,
   "metadata": {},
   "outputs": [
    {
     "data": {
      "application/vnd.plotly.v1+json": {
       "config": {
        "plotlyServerURL": "https://plot.ly"
       },
       "data": [
        {
         "hovertemplate": "Data=%{x}<br>zgony=%{y}<extra></extra>",
         "legendgroup": "",
         "line": {
          "color": "#636efa",
          "dash": "solid"
         },
         "mode": "lines",
         "name": "",
         "orientation": "v",
         "showlegend": false,
         "type": "scatter",
         "x": [
          "2021-02-01",
          "2021-02-02",
          "2021-02-03",
          "2021-02-04",
          "2021-02-05",
          "2021-02-06",
          "2021-02-07",
          "2021-02-08",
          "2021-02-09",
          "2021-02-10",
          "2021-02-11",
          "2021-02-12",
          "2021-02-13",
          "2021-02-14",
          "2021-02-15",
          "2021-02-16",
          "2021-02-17",
          "2021-02-18",
          "2021-02-19",
          "2021-02-20",
          "2021-02-21",
          "2021-02-22",
          "2021-02-23",
          "2021-02-24",
          "2021-02-25",
          "2021-02-26",
          "2021-02-27",
          "2021-02-28",
          "2021-03-01",
          "2021-03-02",
          "2021-03-03",
          "2021-03-04",
          "2021-03-05",
          "2021-03-06",
          "2021-03-07",
          "2021-03-08",
          "2021-03-09",
          "2021-03-10",
          "2021-03-11",
          "2021-03-12",
          "2021-03-13",
          "2021-03-14",
          "2021-03-15",
          "2021-03-16",
          "2021-03-17",
          "2021-03-18",
          "2021-03-19",
          "2021-03-20"
         ],
         "xaxis": "x",
         "y": [
          42,
          253,
          421,
          444,
          368,
          283,
          93,
          45,
          227,
          360,
          456,
          247,
          284,
          98,
          25,
          196,
          279,
          273,
          241,
          254,
          94,
          17,
          247,
          372,
          286,
          259,
          303,
          114,
          24,
          216,
          309,
          289,
          263,
          245,
          126,
          32,
          282,
          398,
          375,
          351,
          343,
          110,
          28,
          372,
          453,
          356,
          419,
          349
         ],
         "yaxis": "y"
        }
       ],
       "layout": {
        "legend": {
         "tracegroupgap": 0
        },
        "template": {
         "data": {
          "bar": [
           {
            "error_x": {
             "color": "#2a3f5f"
            },
            "error_y": {
             "color": "#2a3f5f"
            },
            "marker": {
             "line": {
              "color": "#E5ECF6",
              "width": 0.5
             }
            },
            "type": "bar"
           }
          ],
          "barpolar": [
           {
            "marker": {
             "line": {
              "color": "#E5ECF6",
              "width": 0.5
             }
            },
            "type": "barpolar"
           }
          ],
          "carpet": [
           {
            "aaxis": {
             "endlinecolor": "#2a3f5f",
             "gridcolor": "white",
             "linecolor": "white",
             "minorgridcolor": "white",
             "startlinecolor": "#2a3f5f"
            },
            "baxis": {
             "endlinecolor": "#2a3f5f",
             "gridcolor": "white",
             "linecolor": "white",
             "minorgridcolor": "white",
             "startlinecolor": "#2a3f5f"
            },
            "type": "carpet"
           }
          ],
          "choropleth": [
           {
            "colorbar": {
             "outlinewidth": 0,
             "ticks": ""
            },
            "type": "choropleth"
           }
          ],
          "contour": [
           {
            "colorbar": {
             "outlinewidth": 0,
             "ticks": ""
            },
            "colorscale": [
             [
              0,
              "#0d0887"
             ],
             [
              0.1111111111111111,
              "#46039f"
             ],
             [
              0.2222222222222222,
              "#7201a8"
             ],
             [
              0.3333333333333333,
              "#9c179e"
             ],
             [
              0.4444444444444444,
              "#bd3786"
             ],
             [
              0.5555555555555556,
              "#d8576b"
             ],
             [
              0.6666666666666666,
              "#ed7953"
             ],
             [
              0.7777777777777778,
              "#fb9f3a"
             ],
             [
              0.8888888888888888,
              "#fdca26"
             ],
             [
              1,
              "#f0f921"
             ]
            ],
            "type": "contour"
           }
          ],
          "contourcarpet": [
           {
            "colorbar": {
             "outlinewidth": 0,
             "ticks": ""
            },
            "type": "contourcarpet"
           }
          ],
          "heatmap": [
           {
            "colorbar": {
             "outlinewidth": 0,
             "ticks": ""
            },
            "colorscale": [
             [
              0,
              "#0d0887"
             ],
             [
              0.1111111111111111,
              "#46039f"
             ],
             [
              0.2222222222222222,
              "#7201a8"
             ],
             [
              0.3333333333333333,
              "#9c179e"
             ],
             [
              0.4444444444444444,
              "#bd3786"
             ],
             [
              0.5555555555555556,
              "#d8576b"
             ],
             [
              0.6666666666666666,
              "#ed7953"
             ],
             [
              0.7777777777777778,
              "#fb9f3a"
             ],
             [
              0.8888888888888888,
              "#fdca26"
             ],
             [
              1,
              "#f0f921"
             ]
            ],
            "type": "heatmap"
           }
          ],
          "heatmapgl": [
           {
            "colorbar": {
             "outlinewidth": 0,
             "ticks": ""
            },
            "colorscale": [
             [
              0,
              "#0d0887"
             ],
             [
              0.1111111111111111,
              "#46039f"
             ],
             [
              0.2222222222222222,
              "#7201a8"
             ],
             [
              0.3333333333333333,
              "#9c179e"
             ],
             [
              0.4444444444444444,
              "#bd3786"
             ],
             [
              0.5555555555555556,
              "#d8576b"
             ],
             [
              0.6666666666666666,
              "#ed7953"
             ],
             [
              0.7777777777777778,
              "#fb9f3a"
             ],
             [
              0.8888888888888888,
              "#fdca26"
             ],
             [
              1,
              "#f0f921"
             ]
            ],
            "type": "heatmapgl"
           }
          ],
          "histogram": [
           {
            "marker": {
             "colorbar": {
              "outlinewidth": 0,
              "ticks": ""
             }
            },
            "type": "histogram"
           }
          ],
          "histogram2d": [
           {
            "colorbar": {
             "outlinewidth": 0,
             "ticks": ""
            },
            "colorscale": [
             [
              0,
              "#0d0887"
             ],
             [
              0.1111111111111111,
              "#46039f"
             ],
             [
              0.2222222222222222,
              "#7201a8"
             ],
             [
              0.3333333333333333,
              "#9c179e"
             ],
             [
              0.4444444444444444,
              "#bd3786"
             ],
             [
              0.5555555555555556,
              "#d8576b"
             ],
             [
              0.6666666666666666,
              "#ed7953"
             ],
             [
              0.7777777777777778,
              "#fb9f3a"
             ],
             [
              0.8888888888888888,
              "#fdca26"
             ],
             [
              1,
              "#f0f921"
             ]
            ],
            "type": "histogram2d"
           }
          ],
          "histogram2dcontour": [
           {
            "colorbar": {
             "outlinewidth": 0,
             "ticks": ""
            },
            "colorscale": [
             [
              0,
              "#0d0887"
             ],
             [
              0.1111111111111111,
              "#46039f"
             ],
             [
              0.2222222222222222,
              "#7201a8"
             ],
             [
              0.3333333333333333,
              "#9c179e"
             ],
             [
              0.4444444444444444,
              "#bd3786"
             ],
             [
              0.5555555555555556,
              "#d8576b"
             ],
             [
              0.6666666666666666,
              "#ed7953"
             ],
             [
              0.7777777777777778,
              "#fb9f3a"
             ],
             [
              0.8888888888888888,
              "#fdca26"
             ],
             [
              1,
              "#f0f921"
             ]
            ],
            "type": "histogram2dcontour"
           }
          ],
          "mesh3d": [
           {
            "colorbar": {
             "outlinewidth": 0,
             "ticks": ""
            },
            "type": "mesh3d"
           }
          ],
          "parcoords": [
           {
            "line": {
             "colorbar": {
              "outlinewidth": 0,
              "ticks": ""
             }
            },
            "type": "parcoords"
           }
          ],
          "pie": [
           {
            "automargin": true,
            "type": "pie"
           }
          ],
          "scatter": [
           {
            "marker": {
             "colorbar": {
              "outlinewidth": 0,
              "ticks": ""
             }
            },
            "type": "scatter"
           }
          ],
          "scatter3d": [
           {
            "line": {
             "colorbar": {
              "outlinewidth": 0,
              "ticks": ""
             }
            },
            "marker": {
             "colorbar": {
              "outlinewidth": 0,
              "ticks": ""
             }
            },
            "type": "scatter3d"
           }
          ],
          "scattercarpet": [
           {
            "marker": {
             "colorbar": {
              "outlinewidth": 0,
              "ticks": ""
             }
            },
            "type": "scattercarpet"
           }
          ],
          "scattergeo": [
           {
            "marker": {
             "colorbar": {
              "outlinewidth": 0,
              "ticks": ""
             }
            },
            "type": "scattergeo"
           }
          ],
          "scattergl": [
           {
            "marker": {
             "colorbar": {
              "outlinewidth": 0,
              "ticks": ""
             }
            },
            "type": "scattergl"
           }
          ],
          "scattermapbox": [
           {
            "marker": {
             "colorbar": {
              "outlinewidth": 0,
              "ticks": ""
             }
            },
            "type": "scattermapbox"
           }
          ],
          "scatterpolar": [
           {
            "marker": {
             "colorbar": {
              "outlinewidth": 0,
              "ticks": ""
             }
            },
            "type": "scatterpolar"
           }
          ],
          "scatterpolargl": [
           {
            "marker": {
             "colorbar": {
              "outlinewidth": 0,
              "ticks": ""
             }
            },
            "type": "scatterpolargl"
           }
          ],
          "scatterternary": [
           {
            "marker": {
             "colorbar": {
              "outlinewidth": 0,
              "ticks": ""
             }
            },
            "type": "scatterternary"
           }
          ],
          "surface": [
           {
            "colorbar": {
             "outlinewidth": 0,
             "ticks": ""
            },
            "colorscale": [
             [
              0,
              "#0d0887"
             ],
             [
              0.1111111111111111,
              "#46039f"
             ],
             [
              0.2222222222222222,
              "#7201a8"
             ],
             [
              0.3333333333333333,
              "#9c179e"
             ],
             [
              0.4444444444444444,
              "#bd3786"
             ],
             [
              0.5555555555555556,
              "#d8576b"
             ],
             [
              0.6666666666666666,
              "#ed7953"
             ],
             [
              0.7777777777777778,
              "#fb9f3a"
             ],
             [
              0.8888888888888888,
              "#fdca26"
             ],
             [
              1,
              "#f0f921"
             ]
            ],
            "type": "surface"
           }
          ],
          "table": [
           {
            "cells": {
             "fill": {
              "color": "#EBF0F8"
             },
             "line": {
              "color": "white"
             }
            },
            "header": {
             "fill": {
              "color": "#C8D4E3"
             },
             "line": {
              "color": "white"
             }
            },
            "type": "table"
           }
          ]
         },
         "layout": {
          "annotationdefaults": {
           "arrowcolor": "#2a3f5f",
           "arrowhead": 0,
           "arrowwidth": 1
          },
          "autotypenumbers": "strict",
          "coloraxis": {
           "colorbar": {
            "outlinewidth": 0,
            "ticks": ""
           }
          },
          "colorscale": {
           "diverging": [
            [
             0,
             "#8e0152"
            ],
            [
             0.1,
             "#c51b7d"
            ],
            [
             0.2,
             "#de77ae"
            ],
            [
             0.3,
             "#f1b6da"
            ],
            [
             0.4,
             "#fde0ef"
            ],
            [
             0.5,
             "#f7f7f7"
            ],
            [
             0.6,
             "#e6f5d0"
            ],
            [
             0.7,
             "#b8e186"
            ],
            [
             0.8,
             "#7fbc41"
            ],
            [
             0.9,
             "#4d9221"
            ],
            [
             1,
             "#276419"
            ]
           ],
           "sequential": [
            [
             0,
             "#0d0887"
            ],
            [
             0.1111111111111111,
             "#46039f"
            ],
            [
             0.2222222222222222,
             "#7201a8"
            ],
            [
             0.3333333333333333,
             "#9c179e"
            ],
            [
             0.4444444444444444,
             "#bd3786"
            ],
            [
             0.5555555555555556,
             "#d8576b"
            ],
            [
             0.6666666666666666,
             "#ed7953"
            ],
            [
             0.7777777777777778,
             "#fb9f3a"
            ],
            [
             0.8888888888888888,
             "#fdca26"
            ],
            [
             1,
             "#f0f921"
            ]
           ],
           "sequentialminus": [
            [
             0,
             "#0d0887"
            ],
            [
             0.1111111111111111,
             "#46039f"
            ],
            [
             0.2222222222222222,
             "#7201a8"
            ],
            [
             0.3333333333333333,
             "#9c179e"
            ],
            [
             0.4444444444444444,
             "#bd3786"
            ],
            [
             0.5555555555555556,
             "#d8576b"
            ],
            [
             0.6666666666666666,
             "#ed7953"
            ],
            [
             0.7777777777777778,
             "#fb9f3a"
            ],
            [
             0.8888888888888888,
             "#fdca26"
            ],
            [
             1,
             "#f0f921"
            ]
           ]
          },
          "colorway": [
           "#636efa",
           "#EF553B",
           "#00cc96",
           "#ab63fa",
           "#FFA15A",
           "#19d3f3",
           "#FF6692",
           "#B6E880",
           "#FF97FF",
           "#FECB52"
          ],
          "font": {
           "color": "#2a3f5f"
          },
          "geo": {
           "bgcolor": "white",
           "lakecolor": "white",
           "landcolor": "#E5ECF6",
           "showlakes": true,
           "showland": true,
           "subunitcolor": "white"
          },
          "hoverlabel": {
           "align": "left"
          },
          "hovermode": "closest",
          "mapbox": {
           "style": "light"
          },
          "paper_bgcolor": "white",
          "plot_bgcolor": "#E5ECF6",
          "polar": {
           "angularaxis": {
            "gridcolor": "white",
            "linecolor": "white",
            "ticks": ""
           },
           "bgcolor": "#E5ECF6",
           "radialaxis": {
            "gridcolor": "white",
            "linecolor": "white",
            "ticks": ""
           }
          },
          "scene": {
           "xaxis": {
            "backgroundcolor": "#E5ECF6",
            "gridcolor": "white",
            "gridwidth": 2,
            "linecolor": "white",
            "showbackground": true,
            "ticks": "",
            "zerolinecolor": "white"
           },
           "yaxis": {
            "backgroundcolor": "#E5ECF6",
            "gridcolor": "white",
            "gridwidth": 2,
            "linecolor": "white",
            "showbackground": true,
            "ticks": "",
            "zerolinecolor": "white"
           },
           "zaxis": {
            "backgroundcolor": "#E5ECF6",
            "gridcolor": "white",
            "gridwidth": 2,
            "linecolor": "white",
            "showbackground": true,
            "ticks": "",
            "zerolinecolor": "white"
           }
          },
          "shapedefaults": {
           "line": {
            "color": "#2a3f5f"
           }
          },
          "ternary": {
           "aaxis": {
            "gridcolor": "white",
            "linecolor": "white",
            "ticks": ""
           },
           "baxis": {
            "gridcolor": "white",
            "linecolor": "white",
            "ticks": ""
           },
           "bgcolor": "#E5ECF6",
           "caxis": {
            "gridcolor": "white",
            "linecolor": "white",
            "ticks": ""
           }
          },
          "title": {
           "x": 0.05
          },
          "xaxis": {
           "automargin": true,
           "gridcolor": "white",
           "linecolor": "white",
           "ticks": "",
           "title": {
            "standoff": 15
           },
           "zerolinecolor": "white",
           "zerolinewidth": 2
          },
          "yaxis": {
           "automargin": true,
           "gridcolor": "white",
           "linecolor": "white",
           "ticks": "",
           "title": {
            "standoff": 15
           },
           "zerolinecolor": "white",
           "zerolinewidth": 2
          }
         }
        },
        "title": {
         "text": "Liczba przypadków danego dnia"
        },
        "xaxis": {
         "anchor": "y",
         "domain": [
          0,
          1
         ],
         "title": {
          "text": "Data"
         }
        },
        "yaxis": {
         "anchor": "x",
         "domain": [
          0,
          1
         ],
         "range": [
          0,
          500
         ],
         "title": {
          "text": "zgony"
         }
        }
       }
      },
      "text/html": [
       "<div>                            <div id=\"fd1a8b13-12a6-44cc-9755-f17d6085f8a6\" class=\"plotly-graph-div\" style=\"height:525px; width:100%;\"></div>            <script type=\"text/javascript\">                require([\"plotly\"], function(Plotly) {                    window.PLOTLYENV=window.PLOTLYENV || {};                                    if (document.getElementById(\"fd1a8b13-12a6-44cc-9755-f17d6085f8a6\")) {                    Plotly.newPlot(                        \"fd1a8b13-12a6-44cc-9755-f17d6085f8a6\",                        [{\"hovertemplate\": \"Data=%{x}<br>zgony=%{y}<extra></extra>\", \"legendgroup\": \"\", \"line\": {\"color\": \"#636efa\", \"dash\": \"solid\"}, \"mode\": \"lines\", \"name\": \"\", \"orientation\": \"v\", \"showlegend\": false, \"type\": \"scatter\", \"x\": [\"2021-02-01\", \"2021-02-02\", \"2021-02-03\", \"2021-02-04\", \"2021-02-05\", \"2021-02-06\", \"2021-02-07\", \"2021-02-08\", \"2021-02-09\", \"2021-02-10\", \"2021-02-11\", \"2021-02-12\", \"2021-02-13\", \"2021-02-14\", \"2021-02-15\", \"2021-02-16\", \"2021-02-17\", \"2021-02-18\", \"2021-02-19\", \"2021-02-20\", \"2021-02-21\", \"2021-02-22\", \"2021-02-23\", \"2021-02-24\", \"2021-02-25\", \"2021-02-26\", \"2021-02-27\", \"2021-02-28\", \"2021-03-01\", \"2021-03-02\", \"2021-03-03\", \"2021-03-04\", \"2021-03-05\", \"2021-03-06\", \"2021-03-07\", \"2021-03-08\", \"2021-03-09\", \"2021-03-10\", \"2021-03-11\", \"2021-03-12\", \"2021-03-13\", \"2021-03-14\", \"2021-03-15\", \"2021-03-16\", \"2021-03-17\", \"2021-03-18\", \"2021-03-19\", \"2021-03-20\"], \"xaxis\": \"x\", \"y\": [42, 253, 421, 444, 368, 283, 93, 45, 227, 360, 456, 247, 284, 98, 25, 196, 279, 273, 241, 254, 94, 17, 247, 372, 286, 259, 303, 114, 24, 216, 309, 289, 263, 245, 126, 32, 282, 398, 375, 351, 343, 110, 28, 372, 453, 356, 419, 349], \"yaxis\": \"y\"}],                        {\"legend\": {\"tracegroupgap\": 0}, \"template\": {\"data\": {\"bar\": [{\"error_x\": {\"color\": \"#2a3f5f\"}, \"error_y\": {\"color\": \"#2a3f5f\"}, \"marker\": {\"line\": {\"color\": \"#E5ECF6\", \"width\": 0.5}}, \"type\": \"bar\"}], \"barpolar\": [{\"marker\": {\"line\": {\"color\": \"#E5ECF6\", \"width\": 0.5}}, \"type\": \"barpolar\"}], \"carpet\": [{\"aaxis\": {\"endlinecolor\": \"#2a3f5f\", \"gridcolor\": \"white\", \"linecolor\": \"white\", \"minorgridcolor\": \"white\", \"startlinecolor\": \"#2a3f5f\"}, \"baxis\": {\"endlinecolor\": \"#2a3f5f\", \"gridcolor\": \"white\", \"linecolor\": \"white\", \"minorgridcolor\": \"white\", \"startlinecolor\": \"#2a3f5f\"}, \"type\": \"carpet\"}], \"choropleth\": [{\"colorbar\": {\"outlinewidth\": 0, \"ticks\": \"\"}, \"type\": \"choropleth\"}], \"contour\": [{\"colorbar\": {\"outlinewidth\": 0, \"ticks\": \"\"}, \"colorscale\": [[0.0, \"#0d0887\"], [0.1111111111111111, \"#46039f\"], [0.2222222222222222, \"#7201a8\"], [0.3333333333333333, \"#9c179e\"], [0.4444444444444444, \"#bd3786\"], [0.5555555555555556, \"#d8576b\"], [0.6666666666666666, \"#ed7953\"], [0.7777777777777778, \"#fb9f3a\"], [0.8888888888888888, \"#fdca26\"], [1.0, \"#f0f921\"]], \"type\": \"contour\"}], \"contourcarpet\": [{\"colorbar\": {\"outlinewidth\": 0, \"ticks\": \"\"}, \"type\": \"contourcarpet\"}], \"heatmap\": [{\"colorbar\": {\"outlinewidth\": 0, \"ticks\": \"\"}, \"colorscale\": [[0.0, \"#0d0887\"], [0.1111111111111111, \"#46039f\"], [0.2222222222222222, \"#7201a8\"], [0.3333333333333333, \"#9c179e\"], [0.4444444444444444, \"#bd3786\"], [0.5555555555555556, \"#d8576b\"], [0.6666666666666666, \"#ed7953\"], [0.7777777777777778, \"#fb9f3a\"], [0.8888888888888888, \"#fdca26\"], [1.0, \"#f0f921\"]], \"type\": \"heatmap\"}], \"heatmapgl\": [{\"colorbar\": {\"outlinewidth\": 0, \"ticks\": \"\"}, \"colorscale\": [[0.0, \"#0d0887\"], [0.1111111111111111, \"#46039f\"], [0.2222222222222222, \"#7201a8\"], [0.3333333333333333, \"#9c179e\"], [0.4444444444444444, \"#bd3786\"], [0.5555555555555556, \"#d8576b\"], [0.6666666666666666, \"#ed7953\"], [0.7777777777777778, \"#fb9f3a\"], [0.8888888888888888, \"#fdca26\"], [1.0, \"#f0f921\"]], \"type\": \"heatmapgl\"}], \"histogram\": [{\"marker\": {\"colorbar\": {\"outlinewidth\": 0, \"ticks\": \"\"}}, \"type\": \"histogram\"}], \"histogram2d\": [{\"colorbar\": {\"outlinewidth\": 0, \"ticks\": \"\"}, \"colorscale\": [[0.0, \"#0d0887\"], [0.1111111111111111, \"#46039f\"], [0.2222222222222222, \"#7201a8\"], [0.3333333333333333, \"#9c179e\"], [0.4444444444444444, \"#bd3786\"], [0.5555555555555556, \"#d8576b\"], [0.6666666666666666, \"#ed7953\"], [0.7777777777777778, \"#fb9f3a\"], [0.8888888888888888, \"#fdca26\"], [1.0, \"#f0f921\"]], \"type\": \"histogram2d\"}], \"histogram2dcontour\": [{\"colorbar\": {\"outlinewidth\": 0, \"ticks\": \"\"}, \"colorscale\": [[0.0, \"#0d0887\"], [0.1111111111111111, \"#46039f\"], [0.2222222222222222, \"#7201a8\"], [0.3333333333333333, \"#9c179e\"], [0.4444444444444444, \"#bd3786\"], [0.5555555555555556, \"#d8576b\"], [0.6666666666666666, \"#ed7953\"], [0.7777777777777778, \"#fb9f3a\"], [0.8888888888888888, \"#fdca26\"], [1.0, \"#f0f921\"]], \"type\": \"histogram2dcontour\"}], \"mesh3d\": [{\"colorbar\": {\"outlinewidth\": 0, \"ticks\": \"\"}, \"type\": \"mesh3d\"}], \"parcoords\": [{\"line\": {\"colorbar\": {\"outlinewidth\": 0, \"ticks\": \"\"}}, \"type\": \"parcoords\"}], \"pie\": [{\"automargin\": true, \"type\": \"pie\"}], \"scatter\": [{\"marker\": {\"colorbar\": {\"outlinewidth\": 0, \"ticks\": \"\"}}, \"type\": \"scatter\"}], \"scatter3d\": [{\"line\": {\"colorbar\": {\"outlinewidth\": 0, \"ticks\": \"\"}}, \"marker\": {\"colorbar\": {\"outlinewidth\": 0, \"ticks\": \"\"}}, \"type\": \"scatter3d\"}], \"scattercarpet\": [{\"marker\": {\"colorbar\": {\"outlinewidth\": 0, \"ticks\": \"\"}}, \"type\": \"scattercarpet\"}], \"scattergeo\": [{\"marker\": {\"colorbar\": {\"outlinewidth\": 0, \"ticks\": \"\"}}, \"type\": \"scattergeo\"}], \"scattergl\": [{\"marker\": {\"colorbar\": {\"outlinewidth\": 0, \"ticks\": \"\"}}, \"type\": \"scattergl\"}], \"scattermapbox\": [{\"marker\": {\"colorbar\": {\"outlinewidth\": 0, \"ticks\": \"\"}}, \"type\": \"scattermapbox\"}], \"scatterpolar\": [{\"marker\": {\"colorbar\": {\"outlinewidth\": 0, \"ticks\": \"\"}}, \"type\": \"scatterpolar\"}], \"scatterpolargl\": [{\"marker\": {\"colorbar\": {\"outlinewidth\": 0, \"ticks\": \"\"}}, \"type\": \"scatterpolargl\"}], \"scatterternary\": [{\"marker\": {\"colorbar\": {\"outlinewidth\": 0, \"ticks\": \"\"}}, \"type\": \"scatterternary\"}], \"surface\": [{\"colorbar\": {\"outlinewidth\": 0, \"ticks\": \"\"}, \"colorscale\": [[0.0, \"#0d0887\"], [0.1111111111111111, \"#46039f\"], [0.2222222222222222, \"#7201a8\"], [0.3333333333333333, \"#9c179e\"], [0.4444444444444444, \"#bd3786\"], [0.5555555555555556, \"#d8576b\"], [0.6666666666666666, \"#ed7953\"], [0.7777777777777778, \"#fb9f3a\"], [0.8888888888888888, \"#fdca26\"], [1.0, \"#f0f921\"]], \"type\": \"surface\"}], \"table\": [{\"cells\": {\"fill\": {\"color\": \"#EBF0F8\"}, \"line\": {\"color\": \"white\"}}, \"header\": {\"fill\": {\"color\": \"#C8D4E3\"}, \"line\": {\"color\": \"white\"}}, \"type\": \"table\"}]}, \"layout\": {\"annotationdefaults\": {\"arrowcolor\": \"#2a3f5f\", \"arrowhead\": 0, \"arrowwidth\": 1}, \"autotypenumbers\": \"strict\", \"coloraxis\": {\"colorbar\": {\"outlinewidth\": 0, \"ticks\": \"\"}}, \"colorscale\": {\"diverging\": [[0, \"#8e0152\"], [0.1, \"#c51b7d\"], [0.2, \"#de77ae\"], [0.3, \"#f1b6da\"], [0.4, \"#fde0ef\"], [0.5, \"#f7f7f7\"], [0.6, \"#e6f5d0\"], [0.7, \"#b8e186\"], [0.8, \"#7fbc41\"], [0.9, \"#4d9221\"], [1, \"#276419\"]], \"sequential\": [[0.0, \"#0d0887\"], [0.1111111111111111, \"#46039f\"], [0.2222222222222222, \"#7201a8\"], [0.3333333333333333, \"#9c179e\"], [0.4444444444444444, \"#bd3786\"], [0.5555555555555556, \"#d8576b\"], [0.6666666666666666, \"#ed7953\"], [0.7777777777777778, \"#fb9f3a\"], [0.8888888888888888, \"#fdca26\"], [1.0, \"#f0f921\"]], \"sequentialminus\": [[0.0, \"#0d0887\"], [0.1111111111111111, \"#46039f\"], [0.2222222222222222, \"#7201a8\"], [0.3333333333333333, \"#9c179e\"], [0.4444444444444444, \"#bd3786\"], [0.5555555555555556, \"#d8576b\"], [0.6666666666666666, \"#ed7953\"], [0.7777777777777778, \"#fb9f3a\"], [0.8888888888888888, \"#fdca26\"], [1.0, \"#f0f921\"]]}, \"colorway\": [\"#636efa\", \"#EF553B\", \"#00cc96\", \"#ab63fa\", \"#FFA15A\", \"#19d3f3\", \"#FF6692\", \"#B6E880\", \"#FF97FF\", \"#FECB52\"], \"font\": {\"color\": \"#2a3f5f\"}, \"geo\": {\"bgcolor\": \"white\", \"lakecolor\": \"white\", \"landcolor\": \"#E5ECF6\", \"showlakes\": true, \"showland\": true, \"subunitcolor\": \"white\"}, \"hoverlabel\": {\"align\": \"left\"}, \"hovermode\": \"closest\", \"mapbox\": {\"style\": \"light\"}, \"paper_bgcolor\": \"white\", \"plot_bgcolor\": \"#E5ECF6\", \"polar\": {\"angularaxis\": {\"gridcolor\": \"white\", \"linecolor\": \"white\", \"ticks\": \"\"}, \"bgcolor\": \"#E5ECF6\", \"radialaxis\": {\"gridcolor\": \"white\", \"linecolor\": \"white\", \"ticks\": \"\"}}, \"scene\": {\"xaxis\": {\"backgroundcolor\": \"#E5ECF6\", \"gridcolor\": \"white\", \"gridwidth\": 2, \"linecolor\": \"white\", \"showbackground\": true, \"ticks\": \"\", \"zerolinecolor\": \"white\"}, \"yaxis\": {\"backgroundcolor\": \"#E5ECF6\", \"gridcolor\": \"white\", \"gridwidth\": 2, \"linecolor\": \"white\", \"showbackground\": true, \"ticks\": \"\", \"zerolinecolor\": \"white\"}, \"zaxis\": {\"backgroundcolor\": \"#E5ECF6\", \"gridcolor\": \"white\", \"gridwidth\": 2, \"linecolor\": \"white\", \"showbackground\": true, \"ticks\": \"\", \"zerolinecolor\": \"white\"}}, \"shapedefaults\": {\"line\": {\"color\": \"#2a3f5f\"}}, \"ternary\": {\"aaxis\": {\"gridcolor\": \"white\", \"linecolor\": \"white\", \"ticks\": \"\"}, \"baxis\": {\"gridcolor\": \"white\", \"linecolor\": \"white\", \"ticks\": \"\"}, \"bgcolor\": \"#E5ECF6\", \"caxis\": {\"gridcolor\": \"white\", \"linecolor\": \"white\", \"ticks\": \"\"}}, \"title\": {\"x\": 0.05}, \"xaxis\": {\"automargin\": true, \"gridcolor\": \"white\", \"linecolor\": \"white\", \"ticks\": \"\", \"title\": {\"standoff\": 15}, \"zerolinecolor\": \"white\", \"zerolinewidth\": 2}, \"yaxis\": {\"automargin\": true, \"gridcolor\": \"white\", \"linecolor\": \"white\", \"ticks\": \"\", \"title\": {\"standoff\": 15}, \"zerolinecolor\": \"white\", \"zerolinewidth\": 2}}}, \"title\": {\"text\": \"Liczba przypadk\\u00f3w danego dnia\"}, \"xaxis\": {\"anchor\": \"y\", \"domain\": [0.0, 1.0], \"title\": {\"text\": \"Data\"}}, \"yaxis\": {\"anchor\": \"x\", \"domain\": [0.0, 1.0], \"range\": [0, 500], \"title\": {\"text\": \"zgony\"}}},                        {\"responsive\": true}                    ).then(function(){\n",
       "                            \n",
       "var gd = document.getElementById('fd1a8b13-12a6-44cc-9755-f17d6085f8a6');\n",
       "var x = new MutationObserver(function (mutations, observer) {{\n",
       "        var display = window.getComputedStyle(gd).display;\n",
       "        if (!display || display === 'none') {{\n",
       "            console.log([gd, 'removed!']);\n",
       "            Plotly.purge(gd);\n",
       "            observer.disconnect();\n",
       "        }}\n",
       "}});\n",
       "\n",
       "// Listen for the removal of the full notebook cells\n",
       "var notebookContainer = gd.closest('#notebook-container');\n",
       "if (notebookContainer) {{\n",
       "    x.observe(notebookContainer, {childList: true});\n",
       "}}\n",
       "\n",
       "// Listen for the clearing of the current output cell\n",
       "var outputEl = gd.closest('.output');\n",
       "if (outputEl) {{\n",
       "    x.observe(outputEl, {childList: true});\n",
       "}}\n",
       "\n",
       "                        })                };                });            </script>        </div>"
      ]
     },
     "metadata": {},
     "output_type": "display_data"
    }
   ],
   "source": [
    "fig = px.line(dane, x=\"Data\", y=\"zgony\", title='Liczba przypadków danego dnia',  range_y=[0,500])\n",
    "\n",
    "fig.show()"
   ]
  },
  {
   "cell_type": "markdown",
   "metadata": {},
   "source": [
    "Dzięki użyciu 'plotly' łatwiej nam odnaleźć dokładne wartości z każdej daty."
   ]
  },
  {
   "cell_type": "markdown",
   "metadata": {},
   "source": [
    "## Wykres 2"
   ]
  },
  {
   "cell_type": "code",
   "execution_count": 60,
   "metadata": {},
   "outputs": [
    {
     "data": {
      "application/vnd.plotly.v1+json": {
       "config": {
        "plotlyServerURL": "https://plot.ly"
       },
       "data": [
        {
         "hovertemplate": "<b>%{hovertext}</b><br><br>month=1<br>day=%{x}<br>count=%{y}<extra></extra>",
         "hovertext": [
          "2013-01-01T00:00:00",
          "2013-01-02T00:00:00",
          "2013-01-03T00:00:00",
          "2013-01-04T00:00:00",
          "2013-01-05T00:00:00",
          "2013-01-06T00:00:00",
          "2013-01-07T00:00:00",
          "2013-01-08T00:00:00",
          "2013-01-09T00:00:00",
          "2013-01-10T00:00:00",
          "2013-01-11T00:00:00",
          "2013-01-12T00:00:00",
          "2013-01-13T00:00:00",
          "2013-01-14T00:00:00",
          "2013-01-15T00:00:00",
          "2013-01-16T00:00:00",
          "2013-01-17T00:00:00",
          "2013-01-18T00:00:00",
          "2013-01-19T00:00:00",
          "2013-01-20T00:00:00",
          "2013-01-21T00:00:00",
          "2013-01-22T00:00:00",
          "2013-01-23T00:00:00",
          "2013-01-24T00:00:00",
          "2013-01-25T00:00:00",
          "2013-01-26T00:00:00",
          "2013-01-27T00:00:00",
          "2013-01-28T00:00:00",
          "2013-01-29T00:00:00",
          "2013-01-30T00:00:00",
          "2013-01-31T00:00:00"
         ],
         "legendgroup": "",
         "line": {
          "color": "#636efa",
          "dash": "solid"
         },
         "mode": "lines",
         "name": "",
         "orientation": "v",
         "showlegend": false,
         "type": "scatter",
         "x": [
          1,
          2,
          3,
          4,
          5,
          6,
          7,
          8,
          9,
          10,
          11,
          12,
          13,
          14,
          15,
          16,
          17,
          18,
          19,
          20,
          21,
          22,
          23,
          24,
          25,
          26,
          27,
          28,
          29,
          30,
          31
         ],
         "xaxis": "x",
         "y": [
          842,
          943,
          914,
          915,
          720,
          832,
          933,
          899,
          902,
          932,
          930,
          690,
          828,
          928,
          894,
          901,
          927,
          924,
          674,
          786,
          912,
          890,
          897,
          925,
          922,
          680,
          823,
          923,
          890,
          900,
          928
         ],
         "yaxis": "y"
        }
       ],
       "frames": [
        {
         "data": [
          {
           "hovertemplate": "<b>%{hovertext}</b><br><br>month=1<br>day=%{x}<br>count=%{y}<extra></extra>",
           "hovertext": [
            "2013-01-01T00:00:00",
            "2013-01-02T00:00:00",
            "2013-01-03T00:00:00",
            "2013-01-04T00:00:00",
            "2013-01-05T00:00:00",
            "2013-01-06T00:00:00",
            "2013-01-07T00:00:00",
            "2013-01-08T00:00:00",
            "2013-01-09T00:00:00",
            "2013-01-10T00:00:00",
            "2013-01-11T00:00:00",
            "2013-01-12T00:00:00",
            "2013-01-13T00:00:00",
            "2013-01-14T00:00:00",
            "2013-01-15T00:00:00",
            "2013-01-16T00:00:00",
            "2013-01-17T00:00:00",
            "2013-01-18T00:00:00",
            "2013-01-19T00:00:00",
            "2013-01-20T00:00:00",
            "2013-01-21T00:00:00",
            "2013-01-22T00:00:00",
            "2013-01-23T00:00:00",
            "2013-01-24T00:00:00",
            "2013-01-25T00:00:00",
            "2013-01-26T00:00:00",
            "2013-01-27T00:00:00",
            "2013-01-28T00:00:00",
            "2013-01-29T00:00:00",
            "2013-01-30T00:00:00",
            "2013-01-31T00:00:00"
           ],
           "legendgroup": "",
           "line": {
            "color": "#636efa",
            "dash": "solid"
           },
           "mode": "lines",
           "name": "",
           "orientation": "v",
           "showlegend": false,
           "type": "scatter",
           "x": [
            1,
            2,
            3,
            4,
            5,
            6,
            7,
            8,
            9,
            10,
            11,
            12,
            13,
            14,
            15,
            16,
            17,
            18,
            19,
            20,
            21,
            22,
            23,
            24,
            25,
            26,
            27,
            28,
            29,
            30,
            31
           ],
           "xaxis": "x",
           "y": [
            842,
            943,
            914,
            915,
            720,
            832,
            933,
            899,
            902,
            932,
            930,
            690,
            828,
            928,
            894,
            901,
            927,
            924,
            674,
            786,
            912,
            890,
            897,
            925,
            922,
            680,
            823,
            923,
            890,
            900,
            928
           ],
           "yaxis": "y"
          }
         ],
         "name": "1"
        },
        {
         "data": [
          {
           "hovertemplate": "<b>%{hovertext}</b><br><br>month=2<br>day=%{x}<br>count=%{y}<extra></extra>",
           "hovertext": [
            "2013-02-01T00:00:00",
            "2013-02-02T00:00:00",
            "2013-02-03T00:00:00",
            "2013-02-04T00:00:00",
            "2013-02-05T00:00:00",
            "2013-02-06T00:00:00",
            "2013-02-07T00:00:00",
            "2013-02-08T00:00:00",
            "2013-02-09T00:00:00",
            "2013-02-10T00:00:00",
            "2013-02-11T00:00:00",
            "2013-02-12T00:00:00",
            "2013-02-13T00:00:00",
            "2013-02-14T00:00:00",
            "2013-02-15T00:00:00",
            "2013-02-16T00:00:00",
            "2013-02-17T00:00:00",
            "2013-02-18T00:00:00",
            "2013-02-19T00:00:00",
            "2013-02-20T00:00:00",
            "2013-02-21T00:00:00",
            "2013-02-22T00:00:00",
            "2013-02-23T00:00:00",
            "2013-02-24T00:00:00",
            "2013-02-25T00:00:00",
            "2013-02-26T00:00:00",
            "2013-02-27T00:00:00",
            "2013-02-28T00:00:00"
           ],
           "legendgroup": "",
           "line": {
            "color": "#636efa",
            "dash": "solid"
           },
           "mode": "lines",
           "name": "",
           "orientation": "v",
           "showlegend": false,
           "type": "scatter",
           "x": [
            1,
            2,
            3,
            4,
            5,
            6,
            7,
            8,
            9,
            10,
            11,
            12,
            13,
            14,
            15,
            16,
            17,
            18,
            19,
            20,
            21,
            22,
            23,
            24,
            25,
            26,
            27,
            28
           ],
           "xaxis": "x",
           "y": [
            926,
            682,
            814,
            932,
            896,
            901,
            932,
            930,
            684,
            829,
            929,
            893,
            918,
            956,
            954,
            738,
            848,
            948,
            943,
            949,
            961,
            957,
            743,
            880,
            961,
            938,
            945,
            964
           ],
           "yaxis": "y"
          }
         ],
         "name": "2"
        },
        {
         "data": [
          {
           "hovertemplate": "<b>%{hovertext}</b><br><br>month=3<br>day=%{x}<br>count=%{y}<extra></extra>",
           "hovertext": [
            "2013-03-01T00:00:00",
            "2013-03-02T00:00:00",
            "2013-03-03T00:00:00",
            "2013-03-04T00:00:00",
            "2013-03-05T00:00:00",
            "2013-03-06T00:00:00",
            "2013-03-07T00:00:00",
            "2013-03-08T00:00:00",
            "2013-03-09T00:00:00",
            "2013-03-10T00:00:00",
            "2013-03-11T00:00:00",
            "2013-03-12T00:00:00",
            "2013-03-13T00:00:00",
            "2013-03-14T00:00:00",
            "2013-03-15T00:00:00",
            "2013-03-16T00:00:00",
            "2013-03-17T00:00:00",
            "2013-03-18T00:00:00",
            "2013-03-19T00:00:00",
            "2013-03-20T00:00:00",
            "2013-03-21T00:00:00",
            "2013-03-22T00:00:00",
            "2013-03-23T00:00:00",
            "2013-03-24T00:00:00",
            "2013-03-25T00:00:00",
            "2013-03-26T00:00:00",
            "2013-03-27T00:00:00",
            "2013-03-28T00:00:00",
            "2013-03-29T00:00:00",
            "2013-03-30T00:00:00",
            "2013-03-31T00:00:00"
           ],
           "legendgroup": "",
           "line": {
            "color": "#636efa",
            "dash": "solid"
           },
           "mode": "lines",
           "name": "",
           "orientation": "v",
           "showlegend": false,
           "type": "scatter",
           "x": [
            1,
            2,
            3,
            4,
            5,
            6,
            7,
            8,
            9,
            10,
            11,
            12,
            13,
            14,
            15,
            16,
            17,
            18,
            19,
            20,
            21,
            22,
            23,
            24,
            25,
            26,
            27,
            28,
            29,
            30,
            31
           ],
           "xaxis": "x",
           "y": [
            958,
            765,
            913,
            977,
            965,
            972,
            980,
            979,
            765,
            908,
            980,
            966,
            974,
            982,
            979,
            767,
            907,
            981,
            967,
            970,
            980,
            977,
            767,
            905,
            978,
            973,
            977,
            982,
            974,
            769,
            897
           ],
           "yaxis": "y"
          }
         ],
         "name": "3"
        },
        {
         "data": [
          {
           "hovertemplate": "<b>%{hovertext}</b><br><br>month=4<br>day=%{x}<br>count=%{y}<extra></extra>",
           "hovertext": [
            "2013-04-01T00:00:00",
            "2013-04-02T00:00:00",
            "2013-04-03T00:00:00",
            "2013-04-04T00:00:00",
            "2013-04-05T00:00:00",
            "2013-04-06T00:00:00",
            "2013-04-07T00:00:00",
            "2013-04-08T00:00:00",
            "2013-04-09T00:00:00",
            "2013-04-10T00:00:00",
            "2013-04-11T00:00:00",
            "2013-04-12T00:00:00",
            "2013-04-13T00:00:00",
            "2013-04-14T00:00:00",
            "2013-04-15T00:00:00",
            "2013-04-16T00:00:00",
            "2013-04-17T00:00:00",
            "2013-04-18T00:00:00",
            "2013-04-19T00:00:00",
            "2013-04-20T00:00:00",
            "2013-04-21T00:00:00",
            "2013-04-22T00:00:00",
            "2013-04-23T00:00:00",
            "2013-04-24T00:00:00",
            "2013-04-25T00:00:00",
            "2013-04-26T00:00:00",
            "2013-04-27T00:00:00",
            "2013-04-28T00:00:00",
            "2013-04-29T00:00:00",
            "2013-04-30T00:00:00"
           ],
           "legendgroup": "",
           "line": {
            "color": "#636efa",
            "dash": "solid"
           },
           "mode": "lines",
           "name": "",
           "orientation": "v",
           "showlegend": false,
           "type": "scatter",
           "x": [
            1,
            2,
            3,
            4,
            5,
            6,
            7,
            8,
            9,
            10,
            11,
            12,
            13,
            14,
            15,
            16,
            17,
            18,
            19,
            20,
            21,
            22,
            23,
            24,
            25,
            26,
            27,
            28,
            29,
            30
           ],
           "xaxis": "x",
           "y": [
            970,
            983,
            992,
            985,
            981,
            770,
            911,
            981,
            975,
            989,
            992,
            989,
            770,
            917,
            995,
            974,
            988,
            992,
            988,
            766,
            919,
            985,
            965,
            976,
            983,
            981,
            757,
            913,
            983,
            960
           ],
           "yaxis": "y"
          }
         ],
         "name": "4"
        },
        {
         "data": [
          {
           "hovertemplate": "<b>%{hovertext}</b><br><br>month=5<br>day=%{x}<br>count=%{y}<extra></extra>",
           "hovertext": [
            "2013-05-01T00:00:00",
            "2013-05-02T00:00:00",
            "2013-05-03T00:00:00",
            "2013-05-04T00:00:00",
            "2013-05-05T00:00:00",
            "2013-05-06T00:00:00",
            "2013-05-07T00:00:00",
            "2013-05-08T00:00:00",
            "2013-05-09T00:00:00",
            "2013-05-10T00:00:00",
            "2013-05-11T00:00:00",
            "2013-05-12T00:00:00",
            "2013-05-13T00:00:00",
            "2013-05-14T00:00:00",
            "2013-05-15T00:00:00",
            "2013-05-16T00:00:00",
            "2013-05-17T00:00:00",
            "2013-05-18T00:00:00",
            "2013-05-19T00:00:00",
            "2013-05-20T00:00:00",
            "2013-05-21T00:00:00",
            "2013-05-22T00:00:00",
            "2013-05-23T00:00:00",
            "2013-05-24T00:00:00",
            "2013-05-25T00:00:00",
            "2013-05-26T00:00:00",
            "2013-05-27T00:00:00",
            "2013-05-28T00:00:00",
            "2013-05-29T00:00:00",
            "2013-05-30T00:00:00",
            "2013-05-31T00:00:00"
           ],
           "legendgroup": "",
           "line": {
            "color": "#636efa",
            "dash": "solid"
           },
           "mode": "lines",
           "name": "",
           "orientation": "v",
           "showlegend": false,
           "type": "scatter",
           "x": [
            1,
            2,
            3,
            4,
            5,
            6,
            7,
            8,
            9,
            10,
            11,
            12,
            13,
            14,
            15,
            16,
            17,
            18,
            19,
            20,
            21,
            22,
            23,
            24,
            25,
            26,
            27,
            28,
            29,
            30,
            31
           ],
           "xaxis": "x",
           "y": [
            964,
            983,
            978,
            745,
            912,
            980,
            955,
            965,
            981,
            978,
            738,
            896,
            979,
            955,
            967,
            982,
            980,
            749,
            911,
            983,
            962,
            972,
            988,
            978,
            728,
            729,
            928,
            981,
            974,
            989,
            986
           ],
           "yaxis": "y"
          }
         ],
         "name": "5"
        },
        {
         "data": [
          {
           "hovertemplate": "<b>%{hovertext}</b><br><br>month=6<br>day=%{x}<br>count=%{y}<extra></extra>",
           "hovertext": [
            "2013-06-01T00:00:00",
            "2013-06-02T00:00:00",
            "2013-06-03T00:00:00",
            "2013-06-04T00:00:00",
            "2013-06-05T00:00:00",
            "2013-06-06T00:00:00",
            "2013-06-07T00:00:00",
            "2013-06-08T00:00:00",
            "2013-06-09T00:00:00",
            "2013-06-10T00:00:00",
            "2013-06-11T00:00:00",
            "2013-06-12T00:00:00",
            "2013-06-13T00:00:00",
            "2013-06-14T00:00:00",
            "2013-06-15T00:00:00",
            "2013-06-16T00:00:00",
            "2013-06-17T00:00:00",
            "2013-06-18T00:00:00",
            "2013-06-19T00:00:00",
            "2013-06-20T00:00:00",
            "2013-06-21T00:00:00",
            "2013-06-22T00:00:00",
            "2013-06-23T00:00:00",
            "2013-06-24T00:00:00",
            "2013-06-25T00:00:00",
            "2013-06-26T00:00:00",
            "2013-06-27T00:00:00",
            "2013-06-28T00:00:00",
            "2013-06-29T00:00:00",
            "2013-06-30T00:00:00"
           ],
           "legendgroup": "",
           "line": {
            "color": "#636efa",
            "dash": "solid"
           },
           "mode": "lines",
           "name": "",
           "orientation": "v",
           "showlegend": false,
           "type": "scatter",
           "x": [
            1,
            2,
            3,
            4,
            5,
            6,
            7,
            8,
            9,
            10,
            11,
            12,
            13,
            14,
            15,
            16,
            17,
            18,
            19,
            20,
            21,
            22,
            23,
            24,
            25,
            26,
            27,
            28,
            29,
            30
           ],
           "xaxis": "x",
           "y": [
            754,
            911,
            982,
            960,
            970,
            976,
            975,
            779,
            908,
            987,
            980,
            983,
            989,
            989,
            801,
            918,
            990,
            982,
            985,
            995,
            993,
            812,
            923,
            994,
            993,
            995,
            995,
            994,
            812,
            918
           ],
           "yaxis": "y"
          }
         ],
         "name": "6"
        },
        {
         "data": [
          {
           "hovertemplate": "<b>%{hovertext}</b><br><br>month=7<br>day=%{x}<br>count=%{y}<extra></extra>",
           "hovertext": [
            "2013-07-01T00:00:00",
            "2013-07-02T00:00:00",
            "2013-07-03T00:00:00",
            "2013-07-04T00:00:00",
            "2013-07-05T00:00:00",
            "2013-07-06T00:00:00",
            "2013-07-07T00:00:00",
            "2013-07-08T00:00:00",
            "2013-07-09T00:00:00",
            "2013-07-10T00:00:00",
            "2013-07-11T00:00:00",
            "2013-07-12T00:00:00",
            "2013-07-13T00:00:00",
            "2013-07-14T00:00:00",
            "2013-07-15T00:00:00",
            "2013-07-16T00:00:00",
            "2013-07-17T00:00:00",
            "2013-07-18T00:00:00",
            "2013-07-19T00:00:00",
            "2013-07-20T00:00:00",
            "2013-07-21T00:00:00",
            "2013-07-22T00:00:00",
            "2013-07-23T00:00:00",
            "2013-07-24T00:00:00",
            "2013-07-25T00:00:00",
            "2013-07-26T00:00:00",
            "2013-07-27T00:00:00",
            "2013-07-28T00:00:00",
            "2013-07-29T00:00:00",
            "2013-07-30T00:00:00",
            "2013-07-31T00:00:00"
           ],
           "legendgroup": "",
           "line": {
            "color": "#636efa",
            "dash": "solid"
           },
           "mode": "lines",
           "name": "",
           "orientation": "v",
           "showlegend": false,
           "type": "scatter",
           "x": [
            1,
            2,
            3,
            4,
            5,
            6,
            7,
            8,
            9,
            10,
            11,
            12,
            13,
            14,
            15,
            16,
            17,
            18,
            19,
            20,
            21,
            22,
            23,
            24,
            25,
            26,
            27,
            28,
            29,
            30,
            31
           ],
           "xaxis": "x",
           "y": [
            966,
            945,
            983,
            737,
            822,
            805,
            934,
            1004,
            1001,
            1004,
            1006,
            1002,
            811,
            931,
            999,
            996,
            1001,
            1003,
            999,
            810,
            929,
            1000,
            997,
            1000,
            1003,
            999,
            811,
            930,
            999,
            997,
            1001
           ],
           "yaxis": "y"
          }
         ],
         "name": "7"
        },
        {
         "data": [
          {
           "hovertemplate": "<b>%{hovertext}</b><br><br>month=8<br>day=%{x}<br>count=%{y}<extra></extra>",
           "hovertext": [
            "2013-08-01T00:00:00",
            "2013-08-02T00:00:00",
            "2013-08-03T00:00:00",
            "2013-08-04T00:00:00",
            "2013-08-05T00:00:00",
            "2013-08-06T00:00:00",
            "2013-08-07T00:00:00",
            "2013-08-08T00:00:00",
            "2013-08-09T00:00:00",
            "2013-08-10T00:00:00",
            "2013-08-11T00:00:00",
            "2013-08-12T00:00:00",
            "2013-08-13T00:00:00",
            "2013-08-14T00:00:00",
            "2013-08-15T00:00:00",
            "2013-08-16T00:00:00",
            "2013-08-17T00:00:00",
            "2013-08-18T00:00:00",
            "2013-08-19T00:00:00",
            "2013-08-20T00:00:00",
            "2013-08-21T00:00:00",
            "2013-08-22T00:00:00",
            "2013-08-23T00:00:00",
            "2013-08-24T00:00:00",
            "2013-08-25T00:00:00",
            "2013-08-26T00:00:00",
            "2013-08-27T00:00:00",
            "2013-08-28T00:00:00",
            "2013-08-29T00:00:00",
            "2013-08-30T00:00:00",
            "2013-08-31T00:00:00"
           ],
           "legendgroup": "",
           "line": {
            "color": "#636efa",
            "dash": "solid"
           },
           "mode": "lines",
           "name": "",
           "orientation": "v",
           "showlegend": false,
           "type": "scatter",
           "x": [
            1,
            2,
            3,
            4,
            5,
            6,
            7,
            8,
            9,
            10,
            11,
            12,
            13,
            14,
            15,
            16,
            17,
            18,
            19,
            20,
            21,
            22,
            23,
            24,
            25,
            26,
            27,
            28,
            29,
            30,
            31
           ],
           "xaxis": "x",
           "y": [
            1000,
            999,
            809,
            929,
            1000,
            996,
            1001,
            1001,
            999,
            807,
            929,
            1001,
            995,
            997,
            1000,
            998,
            780,
            914,
            996,
            986,
            990,
            990,
            989,
            774,
            903,
            982,
            965,
            973,
            979,
            965,
            680
           ],
           "yaxis": "y"
          }
         ],
         "name": "8"
        },
        {
         "data": [
          {
           "hovertemplate": "<b>%{hovertext}</b><br><br>month=9<br>day=%{x}<br>count=%{y}<extra></extra>",
           "hovertext": [
            "2013-09-01T00:00:00",
            "2013-09-02T00:00:00",
            "2013-09-03T00:00:00",
            "2013-09-04T00:00:00",
            "2013-09-05T00:00:00",
            "2013-09-06T00:00:00",
            "2013-09-07T00:00:00",
            "2013-09-08T00:00:00",
            "2013-09-09T00:00:00",
            "2013-09-10T00:00:00",
            "2013-09-11T00:00:00",
            "2013-09-12T00:00:00",
            "2013-09-13T00:00:00",
            "2013-09-14T00:00:00",
            "2013-09-15T00:00:00",
            "2013-09-16T00:00:00",
            "2013-09-17T00:00:00",
            "2013-09-18T00:00:00",
            "2013-09-19T00:00:00",
            "2013-09-20T00:00:00",
            "2013-09-21T00:00:00",
            "2013-09-22T00:00:00",
            "2013-09-23T00:00:00",
            "2013-09-24T00:00:00",
            "2013-09-25T00:00:00",
            "2013-09-26T00:00:00",
            "2013-09-27T00:00:00",
            "2013-09-28T00:00:00",
            "2013-09-29T00:00:00",
            "2013-09-30T00:00:00"
           ],
           "legendgroup": "",
           "line": {
            "color": "#636efa",
            "dash": "solid"
           },
           "mode": "lines",
           "name": "",
           "orientation": "v",
           "showlegend": false,
           "type": "scatter",
           "x": [
            1,
            2,
            3,
            4,
            5,
            6,
            7,
            8,
            9,
            10,
            11,
            12,
            13,
            14,
            15,
            16,
            17,
            18,
            19,
            20,
            21,
            22,
            23,
            24,
            25,
            26,
            27,
            28,
            29,
            30
           ],
           "xaxis": "x",
           "y": [
            718,
            929,
            956,
            948,
            969,
            967,
            688,
            908,
            991,
            961,
            947,
            992,
            996,
            686,
            900,
            992,
            961,
            972,
            992,
            994,
            693,
            904,
            993,
            960,
            976,
            996,
            996,
            682,
            914,
            993
           ],
           "yaxis": "y"
          }
         ],
         "name": "9"
        },
        {
         "data": [
          {
           "hovertemplate": "<b>%{hovertext}</b><br><br>month=10<br>day=%{x}<br>count=%{y}<extra></extra>",
           "hovertext": [
            "2013-10-01T00:00:00",
            "2013-10-02T00:00:00",
            "2013-10-03T00:00:00",
            "2013-10-04T00:00:00",
            "2013-10-05T00:00:00",
            "2013-10-06T00:00:00",
            "2013-10-07T00:00:00",
            "2013-10-08T00:00:00",
            "2013-10-09T00:00:00",
            "2013-10-10T00:00:00",
            "2013-10-11T00:00:00",
            "2013-10-12T00:00:00",
            "2013-10-13T00:00:00",
            "2013-10-14T00:00:00",
            "2013-10-15T00:00:00",
            "2013-10-16T00:00:00",
            "2013-10-17T00:00:00",
            "2013-10-18T00:00:00",
            "2013-10-19T00:00:00",
            "2013-10-20T00:00:00",
            "2013-10-21T00:00:00",
            "2013-10-22T00:00:00",
            "2013-10-23T00:00:00",
            "2013-10-24T00:00:00",
            "2013-10-25T00:00:00",
            "2013-10-26T00:00:00",
            "2013-10-27T00:00:00",
            "2013-10-28T00:00:00",
            "2013-10-29T00:00:00",
            "2013-10-30T00:00:00",
            "2013-10-31T00:00:00"
           ],
           "legendgroup": "",
           "line": {
            "color": "#636efa",
            "dash": "solid"
           },
           "mode": "lines",
           "name": "",
           "orientation": "v",
           "showlegend": false,
           "type": "scatter",
           "x": [
            1,
            2,
            3,
            4,
            5,
            6,
            7,
            8,
            9,
            10,
            11,
            12,
            13,
            14,
            15,
            16,
            17,
            18,
            19,
            20,
            21,
            22,
            23,
            24,
            25,
            26,
            27,
            28,
            29,
            30,
            31
           ],
           "xaxis": "x",
           "y": [
            965,
            975,
            995,
            995,
            687,
            917,
            994,
            964,
            974,
            994,
            991,
            676,
            902,
            987,
            963,
            974,
            995,
            993,
            684,
            915,
            991,
            964,
            975,
            992,
            989,
            685,
            910,
            983,
            965,
            973,
            922
           ],
           "yaxis": "y"
          }
         ],
         "name": "10"
        },
        {
         "data": [
          {
           "hovertemplate": "<b>%{hovertext}</b><br><br>month=11<br>day=%{x}<br>count=%{y}<extra></extra>",
           "hovertext": [
            "2013-11-01T00:00:00",
            "2013-11-02T00:00:00",
            "2013-11-03T00:00:00",
            "2013-11-04T00:00:00",
            "2013-11-05T00:00:00",
            "2013-11-06T00:00:00",
            "2013-11-07T00:00:00",
            "2013-11-08T00:00:00",
            "2013-11-09T00:00:00",
            "2013-11-10T00:00:00",
            "2013-11-11T00:00:00",
            "2013-11-12T00:00:00",
            "2013-11-13T00:00:00",
            "2013-11-14T00:00:00",
            "2013-11-15T00:00:00",
            "2013-11-16T00:00:00",
            "2013-11-17T00:00:00",
            "2013-11-18T00:00:00",
            "2013-11-19T00:00:00",
            "2013-11-20T00:00:00",
            "2013-11-21T00:00:00",
            "2013-11-22T00:00:00",
            "2013-11-23T00:00:00",
            "2013-11-24T00:00:00",
            "2013-11-25T00:00:00",
            "2013-11-26T00:00:00",
            "2013-11-27T00:00:00",
            "2013-11-28T00:00:00",
            "2013-11-29T00:00:00",
            "2013-11-30T00:00:00"
           ],
           "legendgroup": "",
           "line": {
            "color": "#636efa",
            "dash": "solid"
           },
           "mode": "lines",
           "name": "",
           "orientation": "v",
           "showlegend": false,
           "type": "scatter",
           "x": [
            1,
            2,
            3,
            4,
            5,
            6,
            7,
            8,
            9,
            10,
            11,
            12,
            13,
            14,
            15,
            16,
            17,
            18,
            19,
            20,
            21,
            22,
            23,
            24,
            25,
            26,
            27,
            28,
            29,
            30
           ],
           "xaxis": "x",
           "y": [
            986,
            689,
            902,
            978,
            967,
            973,
            991,
            986,
            715,
            895,
            983,
            973,
            976,
            988,
            985,
            714,
            896,
            985,
            973,
            977,
            1000,
            999,
            744,
            896,
            942,
            989,
            1014,
            634,
            661,
            857
           ],
           "yaxis": "y"
          }
         ],
         "name": "11"
        },
        {
         "data": [
          {
           "hovertemplate": "<b>%{hovertext}</b><br><br>month=12<br>day=%{x}<br>count=%{y}<extra></extra>",
           "hovertext": [
            "2013-12-01T00:00:00",
            "2013-12-02T00:00:00",
            "2013-12-03T00:00:00",
            "2013-12-04T00:00:00",
            "2013-12-05T00:00:00",
            "2013-12-06T00:00:00",
            "2013-12-07T00:00:00",
            "2013-12-08T00:00:00",
            "2013-12-09T00:00:00",
            "2013-12-10T00:00:00",
            "2013-12-11T00:00:00",
            "2013-12-12T00:00:00",
            "2013-12-13T00:00:00",
            "2013-12-14T00:00:00",
            "2013-12-15T00:00:00",
            "2013-12-16T00:00:00",
            "2013-12-17T00:00:00",
            "2013-12-18T00:00:00",
            "2013-12-19T00:00:00",
            "2013-12-20T00:00:00",
            "2013-12-21T00:00:00",
            "2013-12-22T00:00:00",
            "2013-12-23T00:00:00",
            "2013-12-24T00:00:00",
            "2013-12-25T00:00:00",
            "2013-12-26T00:00:00",
            "2013-12-27T00:00:00",
            "2013-12-28T00:00:00",
            "2013-12-29T00:00:00",
            "2013-12-30T00:00:00",
            "2013-12-31T00:00:00"
           ],
           "legendgroup": "",
           "line": {
            "color": "#636efa",
            "dash": "solid"
           },
           "mode": "lines",
           "name": "",
           "orientation": "v",
           "showlegend": false,
           "type": "scatter",
           "x": [
            1,
            2,
            3,
            4,
            5,
            6,
            7,
            8,
            9,
            10,
            11,
            12,
            13,
            14,
            15,
            16,
            17,
            18,
            19,
            20,
            21,
            22,
            23,
            24,
            25,
            26,
            27,
            28,
            29,
            30,
            31
           ],
           "xaxis": "x",
           "y": [
            987,
            1004,
            973,
            958,
            969,
            970,
            691,
            875,
            962,
            943,
            954,
            968,
            970,
            692,
            880,
            964,
            949,
            956,
            974,
            980,
            811,
            895,
            985,
            761,
            719,
            936,
            963,
            814,
            888,
            968,
            776
           ],
           "yaxis": "y"
          }
         ],
         "name": "12"
        }
       ],
       "layout": {
        "legend": {
         "tracegroupgap": 0
        },
        "margin": {
         "t": 60
        },
        "sliders": [
         {
          "active": 0,
          "currentvalue": {
           "prefix": "month="
          },
          "len": 0.9,
          "pad": {
           "b": 10,
           "t": 60
          },
          "steps": [
           {
            "args": [
             [
              "1"
             ],
             {
              "frame": {
               "duration": 0,
               "redraw": false
              },
              "fromcurrent": true,
              "mode": "immediate",
              "transition": {
               "duration": 0,
               "easing": "linear"
              }
             }
            ],
            "label": "1",
            "method": "animate"
           },
           {
            "args": [
             [
              "2"
             ],
             {
              "frame": {
               "duration": 0,
               "redraw": false
              },
              "fromcurrent": true,
              "mode": "immediate",
              "transition": {
               "duration": 0,
               "easing": "linear"
              }
             }
            ],
            "label": "2",
            "method": "animate"
           },
           {
            "args": [
             [
              "3"
             ],
             {
              "frame": {
               "duration": 0,
               "redraw": false
              },
              "fromcurrent": true,
              "mode": "immediate",
              "transition": {
               "duration": 0,
               "easing": "linear"
              }
             }
            ],
            "label": "3",
            "method": "animate"
           },
           {
            "args": [
             [
              "4"
             ],
             {
              "frame": {
               "duration": 0,
               "redraw": false
              },
              "fromcurrent": true,
              "mode": "immediate",
              "transition": {
               "duration": 0,
               "easing": "linear"
              }
             }
            ],
            "label": "4",
            "method": "animate"
           },
           {
            "args": [
             [
              "5"
             ],
             {
              "frame": {
               "duration": 0,
               "redraw": false
              },
              "fromcurrent": true,
              "mode": "immediate",
              "transition": {
               "duration": 0,
               "easing": "linear"
              }
             }
            ],
            "label": "5",
            "method": "animate"
           },
           {
            "args": [
             [
              "6"
             ],
             {
              "frame": {
               "duration": 0,
               "redraw": false
              },
              "fromcurrent": true,
              "mode": "immediate",
              "transition": {
               "duration": 0,
               "easing": "linear"
              }
             }
            ],
            "label": "6",
            "method": "animate"
           },
           {
            "args": [
             [
              "7"
             ],
             {
              "frame": {
               "duration": 0,
               "redraw": false
              },
              "fromcurrent": true,
              "mode": "immediate",
              "transition": {
               "duration": 0,
               "easing": "linear"
              }
             }
            ],
            "label": "7",
            "method": "animate"
           },
           {
            "args": [
             [
              "8"
             ],
             {
              "frame": {
               "duration": 0,
               "redraw": false
              },
              "fromcurrent": true,
              "mode": "immediate",
              "transition": {
               "duration": 0,
               "easing": "linear"
              }
             }
            ],
            "label": "8",
            "method": "animate"
           },
           {
            "args": [
             [
              "9"
             ],
             {
              "frame": {
               "duration": 0,
               "redraw": false
              },
              "fromcurrent": true,
              "mode": "immediate",
              "transition": {
               "duration": 0,
               "easing": "linear"
              }
             }
            ],
            "label": "9",
            "method": "animate"
           },
           {
            "args": [
             [
              "10"
             ],
             {
              "frame": {
               "duration": 0,
               "redraw": false
              },
              "fromcurrent": true,
              "mode": "immediate",
              "transition": {
               "duration": 0,
               "easing": "linear"
              }
             }
            ],
            "label": "10",
            "method": "animate"
           },
           {
            "args": [
             [
              "11"
             ],
             {
              "frame": {
               "duration": 0,
               "redraw": false
              },
              "fromcurrent": true,
              "mode": "immediate",
              "transition": {
               "duration": 0,
               "easing": "linear"
              }
             }
            ],
            "label": "11",
            "method": "animate"
           },
           {
            "args": [
             [
              "12"
             ],
             {
              "frame": {
               "duration": 0,
               "redraw": false
              },
              "fromcurrent": true,
              "mode": "immediate",
              "transition": {
               "duration": 0,
               "easing": "linear"
              }
             }
            ],
            "label": "12",
            "method": "animate"
           }
          ],
          "x": 0.1,
          "xanchor": "left",
          "y": 0,
          "yanchor": "top"
         }
        ],
        "template": {
         "data": {
          "bar": [
           {
            "error_x": {
             "color": "#2a3f5f"
            },
            "error_y": {
             "color": "#2a3f5f"
            },
            "marker": {
             "line": {
              "color": "#E5ECF6",
              "width": 0.5
             }
            },
            "type": "bar"
           }
          ],
          "barpolar": [
           {
            "marker": {
             "line": {
              "color": "#E5ECF6",
              "width": 0.5
             }
            },
            "type": "barpolar"
           }
          ],
          "carpet": [
           {
            "aaxis": {
             "endlinecolor": "#2a3f5f",
             "gridcolor": "white",
             "linecolor": "white",
             "minorgridcolor": "white",
             "startlinecolor": "#2a3f5f"
            },
            "baxis": {
             "endlinecolor": "#2a3f5f",
             "gridcolor": "white",
             "linecolor": "white",
             "minorgridcolor": "white",
             "startlinecolor": "#2a3f5f"
            },
            "type": "carpet"
           }
          ],
          "choropleth": [
           {
            "colorbar": {
             "outlinewidth": 0,
             "ticks": ""
            },
            "type": "choropleth"
           }
          ],
          "contour": [
           {
            "colorbar": {
             "outlinewidth": 0,
             "ticks": ""
            },
            "colorscale": [
             [
              0,
              "#0d0887"
             ],
             [
              0.1111111111111111,
              "#46039f"
             ],
             [
              0.2222222222222222,
              "#7201a8"
             ],
             [
              0.3333333333333333,
              "#9c179e"
             ],
             [
              0.4444444444444444,
              "#bd3786"
             ],
             [
              0.5555555555555556,
              "#d8576b"
             ],
             [
              0.6666666666666666,
              "#ed7953"
             ],
             [
              0.7777777777777778,
              "#fb9f3a"
             ],
             [
              0.8888888888888888,
              "#fdca26"
             ],
             [
              1,
              "#f0f921"
             ]
            ],
            "type": "contour"
           }
          ],
          "contourcarpet": [
           {
            "colorbar": {
             "outlinewidth": 0,
             "ticks": ""
            },
            "type": "contourcarpet"
           }
          ],
          "heatmap": [
           {
            "colorbar": {
             "outlinewidth": 0,
             "ticks": ""
            },
            "colorscale": [
             [
              0,
              "#0d0887"
             ],
             [
              0.1111111111111111,
              "#46039f"
             ],
             [
              0.2222222222222222,
              "#7201a8"
             ],
             [
              0.3333333333333333,
              "#9c179e"
             ],
             [
              0.4444444444444444,
              "#bd3786"
             ],
             [
              0.5555555555555556,
              "#d8576b"
             ],
             [
              0.6666666666666666,
              "#ed7953"
             ],
             [
              0.7777777777777778,
              "#fb9f3a"
             ],
             [
              0.8888888888888888,
              "#fdca26"
             ],
             [
              1,
              "#f0f921"
             ]
            ],
            "type": "heatmap"
           }
          ],
          "heatmapgl": [
           {
            "colorbar": {
             "outlinewidth": 0,
             "ticks": ""
            },
            "colorscale": [
             [
              0,
              "#0d0887"
             ],
             [
              0.1111111111111111,
              "#46039f"
             ],
             [
              0.2222222222222222,
              "#7201a8"
             ],
             [
              0.3333333333333333,
              "#9c179e"
             ],
             [
              0.4444444444444444,
              "#bd3786"
             ],
             [
              0.5555555555555556,
              "#d8576b"
             ],
             [
              0.6666666666666666,
              "#ed7953"
             ],
             [
              0.7777777777777778,
              "#fb9f3a"
             ],
             [
              0.8888888888888888,
              "#fdca26"
             ],
             [
              1,
              "#f0f921"
             ]
            ],
            "type": "heatmapgl"
           }
          ],
          "histogram": [
           {
            "marker": {
             "colorbar": {
              "outlinewidth": 0,
              "ticks": ""
             }
            },
            "type": "histogram"
           }
          ],
          "histogram2d": [
           {
            "colorbar": {
             "outlinewidth": 0,
             "ticks": ""
            },
            "colorscale": [
             [
              0,
              "#0d0887"
             ],
             [
              0.1111111111111111,
              "#46039f"
             ],
             [
              0.2222222222222222,
              "#7201a8"
             ],
             [
              0.3333333333333333,
              "#9c179e"
             ],
             [
              0.4444444444444444,
              "#bd3786"
             ],
             [
              0.5555555555555556,
              "#d8576b"
             ],
             [
              0.6666666666666666,
              "#ed7953"
             ],
             [
              0.7777777777777778,
              "#fb9f3a"
             ],
             [
              0.8888888888888888,
              "#fdca26"
             ],
             [
              1,
              "#f0f921"
             ]
            ],
            "type": "histogram2d"
           }
          ],
          "histogram2dcontour": [
           {
            "colorbar": {
             "outlinewidth": 0,
             "ticks": ""
            },
            "colorscale": [
             [
              0,
              "#0d0887"
             ],
             [
              0.1111111111111111,
              "#46039f"
             ],
             [
              0.2222222222222222,
              "#7201a8"
             ],
             [
              0.3333333333333333,
              "#9c179e"
             ],
             [
              0.4444444444444444,
              "#bd3786"
             ],
             [
              0.5555555555555556,
              "#d8576b"
             ],
             [
              0.6666666666666666,
              "#ed7953"
             ],
             [
              0.7777777777777778,
              "#fb9f3a"
             ],
             [
              0.8888888888888888,
              "#fdca26"
             ],
             [
              1,
              "#f0f921"
             ]
            ],
            "type": "histogram2dcontour"
           }
          ],
          "mesh3d": [
           {
            "colorbar": {
             "outlinewidth": 0,
             "ticks": ""
            },
            "type": "mesh3d"
           }
          ],
          "parcoords": [
           {
            "line": {
             "colorbar": {
              "outlinewidth": 0,
              "ticks": ""
             }
            },
            "type": "parcoords"
           }
          ],
          "pie": [
           {
            "automargin": true,
            "type": "pie"
           }
          ],
          "scatter": [
           {
            "marker": {
             "colorbar": {
              "outlinewidth": 0,
              "ticks": ""
             }
            },
            "type": "scatter"
           }
          ],
          "scatter3d": [
           {
            "line": {
             "colorbar": {
              "outlinewidth": 0,
              "ticks": ""
             }
            },
            "marker": {
             "colorbar": {
              "outlinewidth": 0,
              "ticks": ""
             }
            },
            "type": "scatter3d"
           }
          ],
          "scattercarpet": [
           {
            "marker": {
             "colorbar": {
              "outlinewidth": 0,
              "ticks": ""
             }
            },
            "type": "scattercarpet"
           }
          ],
          "scattergeo": [
           {
            "marker": {
             "colorbar": {
              "outlinewidth": 0,
              "ticks": ""
             }
            },
            "type": "scattergeo"
           }
          ],
          "scattergl": [
           {
            "marker": {
             "colorbar": {
              "outlinewidth": 0,
              "ticks": ""
             }
            },
            "type": "scattergl"
           }
          ],
          "scattermapbox": [
           {
            "marker": {
             "colorbar": {
              "outlinewidth": 0,
              "ticks": ""
             }
            },
            "type": "scattermapbox"
           }
          ],
          "scatterpolar": [
           {
            "marker": {
             "colorbar": {
              "outlinewidth": 0,
              "ticks": ""
             }
            },
            "type": "scatterpolar"
           }
          ],
          "scatterpolargl": [
           {
            "marker": {
             "colorbar": {
              "outlinewidth": 0,
              "ticks": ""
             }
            },
            "type": "scatterpolargl"
           }
          ],
          "scatterternary": [
           {
            "marker": {
             "colorbar": {
              "outlinewidth": 0,
              "ticks": ""
             }
            },
            "type": "scatterternary"
           }
          ],
          "surface": [
           {
            "colorbar": {
             "outlinewidth": 0,
             "ticks": ""
            },
            "colorscale": [
             [
              0,
              "#0d0887"
             ],
             [
              0.1111111111111111,
              "#46039f"
             ],
             [
              0.2222222222222222,
              "#7201a8"
             ],
             [
              0.3333333333333333,
              "#9c179e"
             ],
             [
              0.4444444444444444,
              "#bd3786"
             ],
             [
              0.5555555555555556,
              "#d8576b"
             ],
             [
              0.6666666666666666,
              "#ed7953"
             ],
             [
              0.7777777777777778,
              "#fb9f3a"
             ],
             [
              0.8888888888888888,
              "#fdca26"
             ],
             [
              1,
              "#f0f921"
             ]
            ],
            "type": "surface"
           }
          ],
          "table": [
           {
            "cells": {
             "fill": {
              "color": "#EBF0F8"
             },
             "line": {
              "color": "white"
             }
            },
            "header": {
             "fill": {
              "color": "#C8D4E3"
             },
             "line": {
              "color": "white"
             }
            },
            "type": "table"
           }
          ]
         },
         "layout": {
          "annotationdefaults": {
           "arrowcolor": "#2a3f5f",
           "arrowhead": 0,
           "arrowwidth": 1
          },
          "autotypenumbers": "strict",
          "coloraxis": {
           "colorbar": {
            "outlinewidth": 0,
            "ticks": ""
           }
          },
          "colorscale": {
           "diverging": [
            [
             0,
             "#8e0152"
            ],
            [
             0.1,
             "#c51b7d"
            ],
            [
             0.2,
             "#de77ae"
            ],
            [
             0.3,
             "#f1b6da"
            ],
            [
             0.4,
             "#fde0ef"
            ],
            [
             0.5,
             "#f7f7f7"
            ],
            [
             0.6,
             "#e6f5d0"
            ],
            [
             0.7,
             "#b8e186"
            ],
            [
             0.8,
             "#7fbc41"
            ],
            [
             0.9,
             "#4d9221"
            ],
            [
             1,
             "#276419"
            ]
           ],
           "sequential": [
            [
             0,
             "#0d0887"
            ],
            [
             0.1111111111111111,
             "#46039f"
            ],
            [
             0.2222222222222222,
             "#7201a8"
            ],
            [
             0.3333333333333333,
             "#9c179e"
            ],
            [
             0.4444444444444444,
             "#bd3786"
            ],
            [
             0.5555555555555556,
             "#d8576b"
            ],
            [
             0.6666666666666666,
             "#ed7953"
            ],
            [
             0.7777777777777778,
             "#fb9f3a"
            ],
            [
             0.8888888888888888,
             "#fdca26"
            ],
            [
             1,
             "#f0f921"
            ]
           ],
           "sequentialminus": [
            [
             0,
             "#0d0887"
            ],
            [
             0.1111111111111111,
             "#46039f"
            ],
            [
             0.2222222222222222,
             "#7201a8"
            ],
            [
             0.3333333333333333,
             "#9c179e"
            ],
            [
             0.4444444444444444,
             "#bd3786"
            ],
            [
             0.5555555555555556,
             "#d8576b"
            ],
            [
             0.6666666666666666,
             "#ed7953"
            ],
            [
             0.7777777777777778,
             "#fb9f3a"
            ],
            [
             0.8888888888888888,
             "#fdca26"
            ],
            [
             1,
             "#f0f921"
            ]
           ]
          },
          "colorway": [
           "#636efa",
           "#EF553B",
           "#00cc96",
           "#ab63fa",
           "#FFA15A",
           "#19d3f3",
           "#FF6692",
           "#B6E880",
           "#FF97FF",
           "#FECB52"
          ],
          "font": {
           "color": "#2a3f5f"
          },
          "geo": {
           "bgcolor": "white",
           "lakecolor": "white",
           "landcolor": "#E5ECF6",
           "showlakes": true,
           "showland": true,
           "subunitcolor": "white"
          },
          "hoverlabel": {
           "align": "left"
          },
          "hovermode": "closest",
          "mapbox": {
           "style": "light"
          },
          "paper_bgcolor": "white",
          "plot_bgcolor": "#E5ECF6",
          "polar": {
           "angularaxis": {
            "gridcolor": "white",
            "linecolor": "white",
            "ticks": ""
           },
           "bgcolor": "#E5ECF6",
           "radialaxis": {
            "gridcolor": "white",
            "linecolor": "white",
            "ticks": ""
           }
          },
          "scene": {
           "xaxis": {
            "backgroundcolor": "#E5ECF6",
            "gridcolor": "white",
            "gridwidth": 2,
            "linecolor": "white",
            "showbackground": true,
            "ticks": "",
            "zerolinecolor": "white"
           },
           "yaxis": {
            "backgroundcolor": "#E5ECF6",
            "gridcolor": "white",
            "gridwidth": 2,
            "linecolor": "white",
            "showbackground": true,
            "ticks": "",
            "zerolinecolor": "white"
           },
           "zaxis": {
            "backgroundcolor": "#E5ECF6",
            "gridcolor": "white",
            "gridwidth": 2,
            "linecolor": "white",
            "showbackground": true,
            "ticks": "",
            "zerolinecolor": "white"
           }
          },
          "shapedefaults": {
           "line": {
            "color": "#2a3f5f"
           }
          },
          "ternary": {
           "aaxis": {
            "gridcolor": "white",
            "linecolor": "white",
            "ticks": ""
           },
           "baxis": {
            "gridcolor": "white",
            "linecolor": "white",
            "ticks": ""
           },
           "bgcolor": "#E5ECF6",
           "caxis": {
            "gridcolor": "white",
            "linecolor": "white",
            "ticks": ""
           }
          },
          "title": {
           "x": 0.05
          },
          "xaxis": {
           "automargin": true,
           "gridcolor": "white",
           "linecolor": "white",
           "ticks": "",
           "title": {
            "standoff": 15
           },
           "zerolinecolor": "white",
           "zerolinewidth": 2
          },
          "yaxis": {
           "automargin": true,
           "gridcolor": "white",
           "linecolor": "white",
           "ticks": "",
           "title": {
            "standoff": 15
           },
           "zerolinecolor": "white",
           "zerolinewidth": 2
          }
         }
        },
        "xaxis": {
         "anchor": "y",
         "domain": [
          0,
          1
         ],
         "title": {
          "text": "day"
         }
        },
        "yaxis": {
         "anchor": "x",
         "domain": [
          0,
          1
         ],
         "range": [
          600,
          1100
         ],
         "title": {
          "text": "count"
         }
        }
       }
      },
      "text/html": [
       "<div>                            <div id=\"e74f82e7-a230-435e-86e6-f6aa61974b54\" class=\"plotly-graph-div\" style=\"height:525px; width:100%;\"></div>            <script type=\"text/javascript\">                require([\"plotly\"], function(Plotly) {                    window.PLOTLYENV=window.PLOTLYENV || {};                                    if (document.getElementById(\"e74f82e7-a230-435e-86e6-f6aa61974b54\")) {                    Plotly.newPlot(                        \"e74f82e7-a230-435e-86e6-f6aa61974b54\",                        [{\"hovertemplate\": \"<b>%{hovertext}</b><br><br>month=1<br>day=%{x}<br>count=%{y}<extra></extra>\", \"hovertext\": [\"2013-01-01T00:00:00\", \"2013-01-02T00:00:00\", \"2013-01-03T00:00:00\", \"2013-01-04T00:00:00\", \"2013-01-05T00:00:00\", \"2013-01-06T00:00:00\", \"2013-01-07T00:00:00\", \"2013-01-08T00:00:00\", \"2013-01-09T00:00:00\", \"2013-01-10T00:00:00\", \"2013-01-11T00:00:00\", \"2013-01-12T00:00:00\", \"2013-01-13T00:00:00\", \"2013-01-14T00:00:00\", \"2013-01-15T00:00:00\", \"2013-01-16T00:00:00\", \"2013-01-17T00:00:00\", \"2013-01-18T00:00:00\", \"2013-01-19T00:00:00\", \"2013-01-20T00:00:00\", \"2013-01-21T00:00:00\", \"2013-01-22T00:00:00\", \"2013-01-23T00:00:00\", \"2013-01-24T00:00:00\", \"2013-01-25T00:00:00\", \"2013-01-26T00:00:00\", \"2013-01-27T00:00:00\", \"2013-01-28T00:00:00\", \"2013-01-29T00:00:00\", \"2013-01-30T00:00:00\", \"2013-01-31T00:00:00\"], \"legendgroup\": \"\", \"line\": {\"color\": \"#636efa\", \"dash\": \"solid\"}, \"mode\": \"lines\", \"name\": \"\", \"orientation\": \"v\", \"showlegend\": false, \"type\": \"scatter\", \"x\": [1, 2, 3, 4, 5, 6, 7, 8, 9, 10, 11, 12, 13, 14, 15, 16, 17, 18, 19, 20, 21, 22, 23, 24, 25, 26, 27, 28, 29, 30, 31], \"xaxis\": \"x\", \"y\": [842, 943, 914, 915, 720, 832, 933, 899, 902, 932, 930, 690, 828, 928, 894, 901, 927, 924, 674, 786, 912, 890, 897, 925, 922, 680, 823, 923, 890, 900, 928], \"yaxis\": \"y\"}],                        {\"legend\": {\"tracegroupgap\": 0}, \"margin\": {\"t\": 60}, \"sliders\": [{\"active\": 0, \"currentvalue\": {\"prefix\": \"month=\"}, \"len\": 0.9, \"pad\": {\"b\": 10, \"t\": 60}, \"steps\": [{\"args\": [[\"1\"], {\"frame\": {\"duration\": 0, \"redraw\": false}, \"fromcurrent\": true, \"mode\": \"immediate\", \"transition\": {\"duration\": 0, \"easing\": \"linear\"}}], \"label\": \"1\", \"method\": \"animate\"}, {\"args\": [[\"2\"], {\"frame\": {\"duration\": 0, \"redraw\": false}, \"fromcurrent\": true, \"mode\": \"immediate\", \"transition\": {\"duration\": 0, \"easing\": \"linear\"}}], \"label\": \"2\", \"method\": \"animate\"}, {\"args\": [[\"3\"], {\"frame\": {\"duration\": 0, \"redraw\": false}, \"fromcurrent\": true, \"mode\": \"immediate\", \"transition\": {\"duration\": 0, \"easing\": \"linear\"}}], \"label\": \"3\", \"method\": \"animate\"}, {\"args\": [[\"4\"], {\"frame\": {\"duration\": 0, \"redraw\": false}, \"fromcurrent\": true, \"mode\": \"immediate\", \"transition\": {\"duration\": 0, \"easing\": \"linear\"}}], \"label\": \"4\", \"method\": \"animate\"}, {\"args\": [[\"5\"], {\"frame\": {\"duration\": 0, \"redraw\": false}, \"fromcurrent\": true, \"mode\": \"immediate\", \"transition\": {\"duration\": 0, \"easing\": \"linear\"}}], \"label\": \"5\", \"method\": \"animate\"}, {\"args\": [[\"6\"], {\"frame\": {\"duration\": 0, \"redraw\": false}, \"fromcurrent\": true, \"mode\": \"immediate\", \"transition\": {\"duration\": 0, \"easing\": \"linear\"}}], \"label\": \"6\", \"method\": \"animate\"}, {\"args\": [[\"7\"], {\"frame\": {\"duration\": 0, \"redraw\": false}, \"fromcurrent\": true, \"mode\": \"immediate\", \"transition\": {\"duration\": 0, \"easing\": \"linear\"}}], \"label\": \"7\", \"method\": \"animate\"}, {\"args\": [[\"8\"], {\"frame\": {\"duration\": 0, \"redraw\": false}, \"fromcurrent\": true, \"mode\": \"immediate\", \"transition\": {\"duration\": 0, \"easing\": \"linear\"}}], \"label\": \"8\", \"method\": \"animate\"}, {\"args\": [[\"9\"], {\"frame\": {\"duration\": 0, \"redraw\": false}, \"fromcurrent\": true, \"mode\": \"immediate\", \"transition\": {\"duration\": 0, \"easing\": \"linear\"}}], \"label\": \"9\", \"method\": \"animate\"}, {\"args\": [[\"10\"], {\"frame\": {\"duration\": 0, \"redraw\": false}, \"fromcurrent\": true, \"mode\": \"immediate\", \"transition\": {\"duration\": 0, \"easing\": \"linear\"}}], \"label\": \"10\", \"method\": \"animate\"}, {\"args\": [[\"11\"], {\"frame\": {\"duration\": 0, \"redraw\": false}, \"fromcurrent\": true, \"mode\": \"immediate\", \"transition\": {\"duration\": 0, \"easing\": \"linear\"}}], \"label\": \"11\", \"method\": \"animate\"}, {\"args\": [[\"12\"], {\"frame\": {\"duration\": 0, \"redraw\": false}, \"fromcurrent\": true, \"mode\": \"immediate\", \"transition\": {\"duration\": 0, \"easing\": \"linear\"}}], \"label\": \"12\", \"method\": \"animate\"}], \"x\": 0.1, \"xanchor\": \"left\", \"y\": 0, \"yanchor\": \"top\"}], \"template\": {\"data\": {\"bar\": [{\"error_x\": {\"color\": \"#2a3f5f\"}, \"error_y\": {\"color\": \"#2a3f5f\"}, \"marker\": {\"line\": {\"color\": \"#E5ECF6\", \"width\": 0.5}}, \"type\": \"bar\"}], \"barpolar\": [{\"marker\": {\"line\": {\"color\": \"#E5ECF6\", \"width\": 0.5}}, \"type\": \"barpolar\"}], \"carpet\": [{\"aaxis\": {\"endlinecolor\": \"#2a3f5f\", \"gridcolor\": \"white\", \"linecolor\": \"white\", \"minorgridcolor\": \"white\", \"startlinecolor\": \"#2a3f5f\"}, \"baxis\": {\"endlinecolor\": \"#2a3f5f\", \"gridcolor\": \"white\", \"linecolor\": \"white\", \"minorgridcolor\": \"white\", \"startlinecolor\": \"#2a3f5f\"}, \"type\": \"carpet\"}], \"choropleth\": [{\"colorbar\": {\"outlinewidth\": 0, \"ticks\": \"\"}, \"type\": \"choropleth\"}], \"contour\": [{\"colorbar\": {\"outlinewidth\": 0, \"ticks\": \"\"}, \"colorscale\": [[0.0, \"#0d0887\"], [0.1111111111111111, \"#46039f\"], [0.2222222222222222, \"#7201a8\"], [0.3333333333333333, \"#9c179e\"], [0.4444444444444444, \"#bd3786\"], [0.5555555555555556, \"#d8576b\"], [0.6666666666666666, \"#ed7953\"], [0.7777777777777778, \"#fb9f3a\"], [0.8888888888888888, \"#fdca26\"], [1.0, \"#f0f921\"]], \"type\": \"contour\"}], \"contourcarpet\": [{\"colorbar\": {\"outlinewidth\": 0, \"ticks\": \"\"}, \"type\": \"contourcarpet\"}], \"heatmap\": [{\"colorbar\": {\"outlinewidth\": 0, \"ticks\": \"\"}, \"colorscale\": [[0.0, \"#0d0887\"], [0.1111111111111111, \"#46039f\"], [0.2222222222222222, \"#7201a8\"], [0.3333333333333333, \"#9c179e\"], [0.4444444444444444, \"#bd3786\"], [0.5555555555555556, \"#d8576b\"], [0.6666666666666666, \"#ed7953\"], [0.7777777777777778, \"#fb9f3a\"], [0.8888888888888888, \"#fdca26\"], [1.0, \"#f0f921\"]], \"type\": \"heatmap\"}], \"heatmapgl\": [{\"colorbar\": {\"outlinewidth\": 0, \"ticks\": \"\"}, \"colorscale\": [[0.0, \"#0d0887\"], [0.1111111111111111, \"#46039f\"], [0.2222222222222222, \"#7201a8\"], [0.3333333333333333, \"#9c179e\"], [0.4444444444444444, \"#bd3786\"], [0.5555555555555556, \"#d8576b\"], [0.6666666666666666, \"#ed7953\"], [0.7777777777777778, \"#fb9f3a\"], [0.8888888888888888, \"#fdca26\"], [1.0, \"#f0f921\"]], \"type\": \"heatmapgl\"}], \"histogram\": [{\"marker\": {\"colorbar\": {\"outlinewidth\": 0, \"ticks\": \"\"}}, \"type\": \"histogram\"}], \"histogram2d\": [{\"colorbar\": {\"outlinewidth\": 0, \"ticks\": \"\"}, \"colorscale\": [[0.0, \"#0d0887\"], [0.1111111111111111, \"#46039f\"], [0.2222222222222222, \"#7201a8\"], [0.3333333333333333, \"#9c179e\"], [0.4444444444444444, \"#bd3786\"], [0.5555555555555556, \"#d8576b\"], [0.6666666666666666, \"#ed7953\"], [0.7777777777777778, \"#fb9f3a\"], [0.8888888888888888, \"#fdca26\"], [1.0, \"#f0f921\"]], \"type\": \"histogram2d\"}], \"histogram2dcontour\": [{\"colorbar\": {\"outlinewidth\": 0, \"ticks\": \"\"}, \"colorscale\": [[0.0, \"#0d0887\"], [0.1111111111111111, \"#46039f\"], [0.2222222222222222, \"#7201a8\"], [0.3333333333333333, \"#9c179e\"], [0.4444444444444444, \"#bd3786\"], [0.5555555555555556, \"#d8576b\"], [0.6666666666666666, \"#ed7953\"], [0.7777777777777778, \"#fb9f3a\"], [0.8888888888888888, \"#fdca26\"], [1.0, \"#f0f921\"]], \"type\": \"histogram2dcontour\"}], \"mesh3d\": [{\"colorbar\": {\"outlinewidth\": 0, \"ticks\": \"\"}, \"type\": \"mesh3d\"}], \"parcoords\": [{\"line\": {\"colorbar\": {\"outlinewidth\": 0, \"ticks\": \"\"}}, \"type\": \"parcoords\"}], \"pie\": [{\"automargin\": true, \"type\": \"pie\"}], \"scatter\": [{\"marker\": {\"colorbar\": {\"outlinewidth\": 0, \"ticks\": \"\"}}, \"type\": \"scatter\"}], \"scatter3d\": [{\"line\": {\"colorbar\": {\"outlinewidth\": 0, \"ticks\": \"\"}}, \"marker\": {\"colorbar\": {\"outlinewidth\": 0, \"ticks\": \"\"}}, \"type\": \"scatter3d\"}], \"scattercarpet\": [{\"marker\": {\"colorbar\": {\"outlinewidth\": 0, \"ticks\": \"\"}}, \"type\": \"scattercarpet\"}], \"scattergeo\": [{\"marker\": {\"colorbar\": {\"outlinewidth\": 0, \"ticks\": \"\"}}, \"type\": \"scattergeo\"}], \"scattergl\": [{\"marker\": {\"colorbar\": {\"outlinewidth\": 0, \"ticks\": \"\"}}, \"type\": \"scattergl\"}], \"scattermapbox\": [{\"marker\": {\"colorbar\": {\"outlinewidth\": 0, \"ticks\": \"\"}}, \"type\": \"scattermapbox\"}], \"scatterpolar\": [{\"marker\": {\"colorbar\": {\"outlinewidth\": 0, \"ticks\": \"\"}}, \"type\": \"scatterpolar\"}], \"scatterpolargl\": [{\"marker\": {\"colorbar\": {\"outlinewidth\": 0, \"ticks\": \"\"}}, \"type\": \"scatterpolargl\"}], \"scatterternary\": [{\"marker\": {\"colorbar\": {\"outlinewidth\": 0, \"ticks\": \"\"}}, \"type\": \"scatterternary\"}], \"surface\": [{\"colorbar\": {\"outlinewidth\": 0, \"ticks\": \"\"}, \"colorscale\": [[0.0, \"#0d0887\"], [0.1111111111111111, \"#46039f\"], [0.2222222222222222, \"#7201a8\"], [0.3333333333333333, \"#9c179e\"], [0.4444444444444444, \"#bd3786\"], [0.5555555555555556, \"#d8576b\"], [0.6666666666666666, \"#ed7953\"], [0.7777777777777778, \"#fb9f3a\"], [0.8888888888888888, \"#fdca26\"], [1.0, \"#f0f921\"]], \"type\": \"surface\"}], \"table\": [{\"cells\": {\"fill\": {\"color\": \"#EBF0F8\"}, \"line\": {\"color\": \"white\"}}, \"header\": {\"fill\": {\"color\": \"#C8D4E3\"}, \"line\": {\"color\": \"white\"}}, \"type\": \"table\"}]}, \"layout\": {\"annotationdefaults\": {\"arrowcolor\": \"#2a3f5f\", \"arrowhead\": 0, \"arrowwidth\": 1}, \"autotypenumbers\": \"strict\", \"coloraxis\": {\"colorbar\": {\"outlinewidth\": 0, \"ticks\": \"\"}}, \"colorscale\": {\"diverging\": [[0, \"#8e0152\"], [0.1, \"#c51b7d\"], [0.2, \"#de77ae\"], [0.3, \"#f1b6da\"], [0.4, \"#fde0ef\"], [0.5, \"#f7f7f7\"], [0.6, \"#e6f5d0\"], [0.7, \"#b8e186\"], [0.8, \"#7fbc41\"], [0.9, \"#4d9221\"], [1, \"#276419\"]], \"sequential\": [[0.0, \"#0d0887\"], [0.1111111111111111, \"#46039f\"], [0.2222222222222222, \"#7201a8\"], [0.3333333333333333, \"#9c179e\"], [0.4444444444444444, \"#bd3786\"], [0.5555555555555556, \"#d8576b\"], [0.6666666666666666, \"#ed7953\"], [0.7777777777777778, \"#fb9f3a\"], [0.8888888888888888, \"#fdca26\"], [1.0, \"#f0f921\"]], \"sequentialminus\": [[0.0, \"#0d0887\"], [0.1111111111111111, \"#46039f\"], [0.2222222222222222, \"#7201a8\"], [0.3333333333333333, \"#9c179e\"], [0.4444444444444444, \"#bd3786\"], [0.5555555555555556, \"#d8576b\"], [0.6666666666666666, \"#ed7953\"], [0.7777777777777778, \"#fb9f3a\"], [0.8888888888888888, \"#fdca26\"], [1.0, \"#f0f921\"]]}, \"colorway\": [\"#636efa\", \"#EF553B\", \"#00cc96\", \"#ab63fa\", \"#FFA15A\", \"#19d3f3\", \"#FF6692\", \"#B6E880\", \"#FF97FF\", \"#FECB52\"], \"font\": {\"color\": \"#2a3f5f\"}, \"geo\": {\"bgcolor\": \"white\", \"lakecolor\": \"white\", \"landcolor\": \"#E5ECF6\", \"showlakes\": true, \"showland\": true, \"subunitcolor\": \"white\"}, \"hoverlabel\": {\"align\": \"left\"}, \"hovermode\": \"closest\", \"mapbox\": {\"style\": \"light\"}, \"paper_bgcolor\": \"white\", \"plot_bgcolor\": \"#E5ECF6\", \"polar\": {\"angularaxis\": {\"gridcolor\": \"white\", \"linecolor\": \"white\", \"ticks\": \"\"}, \"bgcolor\": \"#E5ECF6\", \"radialaxis\": {\"gridcolor\": \"white\", \"linecolor\": \"white\", \"ticks\": \"\"}}, \"scene\": {\"xaxis\": {\"backgroundcolor\": \"#E5ECF6\", \"gridcolor\": \"white\", \"gridwidth\": 2, \"linecolor\": \"white\", \"showbackground\": true, \"ticks\": \"\", \"zerolinecolor\": \"white\"}, \"yaxis\": {\"backgroundcolor\": \"#E5ECF6\", \"gridcolor\": \"white\", \"gridwidth\": 2, \"linecolor\": \"white\", \"showbackground\": true, \"ticks\": \"\", \"zerolinecolor\": \"white\"}, \"zaxis\": {\"backgroundcolor\": \"#E5ECF6\", \"gridcolor\": \"white\", \"gridwidth\": 2, \"linecolor\": \"white\", \"showbackground\": true, \"ticks\": \"\", \"zerolinecolor\": \"white\"}}, \"shapedefaults\": {\"line\": {\"color\": \"#2a3f5f\"}}, \"ternary\": {\"aaxis\": {\"gridcolor\": \"white\", \"linecolor\": \"white\", \"ticks\": \"\"}, \"baxis\": {\"gridcolor\": \"white\", \"linecolor\": \"white\", \"ticks\": \"\"}, \"bgcolor\": \"#E5ECF6\", \"caxis\": {\"gridcolor\": \"white\", \"linecolor\": \"white\", \"ticks\": \"\"}}, \"title\": {\"x\": 0.05}, \"xaxis\": {\"automargin\": true, \"gridcolor\": \"white\", \"linecolor\": \"white\", \"ticks\": \"\", \"title\": {\"standoff\": 15}, \"zerolinecolor\": \"white\", \"zerolinewidth\": 2}, \"yaxis\": {\"automargin\": true, \"gridcolor\": \"white\", \"linecolor\": \"white\", \"ticks\": \"\", \"title\": {\"standoff\": 15}, \"zerolinecolor\": \"white\", \"zerolinewidth\": 2}}}, \"xaxis\": {\"anchor\": \"y\", \"domain\": [0.0, 1.0], \"title\": {\"text\": \"day\"}}, \"yaxis\": {\"anchor\": \"x\", \"domain\": [0.0, 1.0], \"range\": [600, 1100], \"title\": {\"text\": \"count\"}}},                        {\"responsive\": true}                    ).then(function(){\n",
       "                            Plotly.addFrames('e74f82e7-a230-435e-86e6-f6aa61974b54', [{\"data\": [{\"hovertemplate\": \"<b>%{hovertext}</b><br><br>month=1<br>day=%{x}<br>count=%{y}<extra></extra>\", \"hovertext\": [\"2013-01-01T00:00:00\", \"2013-01-02T00:00:00\", \"2013-01-03T00:00:00\", \"2013-01-04T00:00:00\", \"2013-01-05T00:00:00\", \"2013-01-06T00:00:00\", \"2013-01-07T00:00:00\", \"2013-01-08T00:00:00\", \"2013-01-09T00:00:00\", \"2013-01-10T00:00:00\", \"2013-01-11T00:00:00\", \"2013-01-12T00:00:00\", \"2013-01-13T00:00:00\", \"2013-01-14T00:00:00\", \"2013-01-15T00:00:00\", \"2013-01-16T00:00:00\", \"2013-01-17T00:00:00\", \"2013-01-18T00:00:00\", \"2013-01-19T00:00:00\", \"2013-01-20T00:00:00\", \"2013-01-21T00:00:00\", \"2013-01-22T00:00:00\", \"2013-01-23T00:00:00\", \"2013-01-24T00:00:00\", \"2013-01-25T00:00:00\", \"2013-01-26T00:00:00\", \"2013-01-27T00:00:00\", \"2013-01-28T00:00:00\", \"2013-01-29T00:00:00\", \"2013-01-30T00:00:00\", \"2013-01-31T00:00:00\"], \"legendgroup\": \"\", \"line\": {\"color\": \"#636efa\", \"dash\": \"solid\"}, \"mode\": \"lines\", \"name\": \"\", \"orientation\": \"v\", \"showlegend\": false, \"x\": [1, 2, 3, 4, 5, 6, 7, 8, 9, 10, 11, 12, 13, 14, 15, 16, 17, 18, 19, 20, 21, 22, 23, 24, 25, 26, 27, 28, 29, 30, 31], \"xaxis\": \"x\", \"y\": [842, 943, 914, 915, 720, 832, 933, 899, 902, 932, 930, 690, 828, 928, 894, 901, 927, 924, 674, 786, 912, 890, 897, 925, 922, 680, 823, 923, 890, 900, 928], \"yaxis\": \"y\", \"type\": \"scatter\"}], \"name\": \"1\"}, {\"data\": [{\"hovertemplate\": \"<b>%{hovertext}</b><br><br>month=2<br>day=%{x}<br>count=%{y}<extra></extra>\", \"hovertext\": [\"2013-02-01T00:00:00\", \"2013-02-02T00:00:00\", \"2013-02-03T00:00:00\", \"2013-02-04T00:00:00\", \"2013-02-05T00:00:00\", \"2013-02-06T00:00:00\", \"2013-02-07T00:00:00\", \"2013-02-08T00:00:00\", \"2013-02-09T00:00:00\", \"2013-02-10T00:00:00\", \"2013-02-11T00:00:00\", \"2013-02-12T00:00:00\", \"2013-02-13T00:00:00\", \"2013-02-14T00:00:00\", \"2013-02-15T00:00:00\", \"2013-02-16T00:00:00\", \"2013-02-17T00:00:00\", \"2013-02-18T00:00:00\", \"2013-02-19T00:00:00\", \"2013-02-20T00:00:00\", \"2013-02-21T00:00:00\", \"2013-02-22T00:00:00\", \"2013-02-23T00:00:00\", \"2013-02-24T00:00:00\", \"2013-02-25T00:00:00\", \"2013-02-26T00:00:00\", \"2013-02-27T00:00:00\", \"2013-02-28T00:00:00\"], \"legendgroup\": \"\", \"line\": {\"color\": \"#636efa\", \"dash\": \"solid\"}, \"mode\": \"lines\", \"name\": \"\", \"orientation\": \"v\", \"showlegend\": false, \"x\": [1, 2, 3, 4, 5, 6, 7, 8, 9, 10, 11, 12, 13, 14, 15, 16, 17, 18, 19, 20, 21, 22, 23, 24, 25, 26, 27, 28], \"xaxis\": \"x\", \"y\": [926, 682, 814, 932, 896, 901, 932, 930, 684, 829, 929, 893, 918, 956, 954, 738, 848, 948, 943, 949, 961, 957, 743, 880, 961, 938, 945, 964], \"yaxis\": \"y\", \"type\": \"scatter\"}], \"name\": \"2\"}, {\"data\": [{\"hovertemplate\": \"<b>%{hovertext}</b><br><br>month=3<br>day=%{x}<br>count=%{y}<extra></extra>\", \"hovertext\": [\"2013-03-01T00:00:00\", \"2013-03-02T00:00:00\", \"2013-03-03T00:00:00\", \"2013-03-04T00:00:00\", \"2013-03-05T00:00:00\", \"2013-03-06T00:00:00\", \"2013-03-07T00:00:00\", \"2013-03-08T00:00:00\", \"2013-03-09T00:00:00\", \"2013-03-10T00:00:00\", \"2013-03-11T00:00:00\", \"2013-03-12T00:00:00\", \"2013-03-13T00:00:00\", \"2013-03-14T00:00:00\", \"2013-03-15T00:00:00\", \"2013-03-16T00:00:00\", \"2013-03-17T00:00:00\", \"2013-03-18T00:00:00\", \"2013-03-19T00:00:00\", \"2013-03-20T00:00:00\", \"2013-03-21T00:00:00\", \"2013-03-22T00:00:00\", \"2013-03-23T00:00:00\", \"2013-03-24T00:00:00\", \"2013-03-25T00:00:00\", \"2013-03-26T00:00:00\", \"2013-03-27T00:00:00\", \"2013-03-28T00:00:00\", \"2013-03-29T00:00:00\", \"2013-03-30T00:00:00\", \"2013-03-31T00:00:00\"], \"legendgroup\": \"\", \"line\": {\"color\": \"#636efa\", \"dash\": \"solid\"}, \"mode\": \"lines\", \"name\": \"\", \"orientation\": \"v\", \"showlegend\": false, \"x\": [1, 2, 3, 4, 5, 6, 7, 8, 9, 10, 11, 12, 13, 14, 15, 16, 17, 18, 19, 20, 21, 22, 23, 24, 25, 26, 27, 28, 29, 30, 31], \"xaxis\": \"x\", \"y\": [958, 765, 913, 977, 965, 972, 980, 979, 765, 908, 980, 966, 974, 982, 979, 767, 907, 981, 967, 970, 980, 977, 767, 905, 978, 973, 977, 982, 974, 769, 897], \"yaxis\": \"y\", \"type\": \"scatter\"}], \"name\": \"3\"}, {\"data\": [{\"hovertemplate\": \"<b>%{hovertext}</b><br><br>month=4<br>day=%{x}<br>count=%{y}<extra></extra>\", \"hovertext\": [\"2013-04-01T00:00:00\", \"2013-04-02T00:00:00\", \"2013-04-03T00:00:00\", \"2013-04-04T00:00:00\", \"2013-04-05T00:00:00\", \"2013-04-06T00:00:00\", \"2013-04-07T00:00:00\", \"2013-04-08T00:00:00\", \"2013-04-09T00:00:00\", \"2013-04-10T00:00:00\", \"2013-04-11T00:00:00\", \"2013-04-12T00:00:00\", \"2013-04-13T00:00:00\", \"2013-04-14T00:00:00\", \"2013-04-15T00:00:00\", \"2013-04-16T00:00:00\", \"2013-04-17T00:00:00\", \"2013-04-18T00:00:00\", \"2013-04-19T00:00:00\", \"2013-04-20T00:00:00\", \"2013-04-21T00:00:00\", \"2013-04-22T00:00:00\", \"2013-04-23T00:00:00\", \"2013-04-24T00:00:00\", \"2013-04-25T00:00:00\", \"2013-04-26T00:00:00\", \"2013-04-27T00:00:00\", \"2013-04-28T00:00:00\", \"2013-04-29T00:00:00\", \"2013-04-30T00:00:00\"], \"legendgroup\": \"\", \"line\": {\"color\": \"#636efa\", \"dash\": \"solid\"}, \"mode\": \"lines\", \"name\": \"\", \"orientation\": \"v\", \"showlegend\": false, \"x\": [1, 2, 3, 4, 5, 6, 7, 8, 9, 10, 11, 12, 13, 14, 15, 16, 17, 18, 19, 20, 21, 22, 23, 24, 25, 26, 27, 28, 29, 30], \"xaxis\": \"x\", \"y\": [970, 983, 992, 985, 981, 770, 911, 981, 975, 989, 992, 989, 770, 917, 995, 974, 988, 992, 988, 766, 919, 985, 965, 976, 983, 981, 757, 913, 983, 960], \"yaxis\": \"y\", \"type\": \"scatter\"}], \"name\": \"4\"}, {\"data\": [{\"hovertemplate\": \"<b>%{hovertext}</b><br><br>month=5<br>day=%{x}<br>count=%{y}<extra></extra>\", \"hovertext\": [\"2013-05-01T00:00:00\", \"2013-05-02T00:00:00\", \"2013-05-03T00:00:00\", \"2013-05-04T00:00:00\", \"2013-05-05T00:00:00\", \"2013-05-06T00:00:00\", \"2013-05-07T00:00:00\", \"2013-05-08T00:00:00\", \"2013-05-09T00:00:00\", \"2013-05-10T00:00:00\", \"2013-05-11T00:00:00\", \"2013-05-12T00:00:00\", \"2013-05-13T00:00:00\", \"2013-05-14T00:00:00\", \"2013-05-15T00:00:00\", \"2013-05-16T00:00:00\", \"2013-05-17T00:00:00\", \"2013-05-18T00:00:00\", \"2013-05-19T00:00:00\", \"2013-05-20T00:00:00\", \"2013-05-21T00:00:00\", \"2013-05-22T00:00:00\", \"2013-05-23T00:00:00\", \"2013-05-24T00:00:00\", \"2013-05-25T00:00:00\", \"2013-05-26T00:00:00\", \"2013-05-27T00:00:00\", \"2013-05-28T00:00:00\", \"2013-05-29T00:00:00\", \"2013-05-30T00:00:00\", \"2013-05-31T00:00:00\"], \"legendgroup\": \"\", \"line\": {\"color\": \"#636efa\", \"dash\": \"solid\"}, \"mode\": \"lines\", \"name\": \"\", \"orientation\": \"v\", \"showlegend\": false, \"x\": [1, 2, 3, 4, 5, 6, 7, 8, 9, 10, 11, 12, 13, 14, 15, 16, 17, 18, 19, 20, 21, 22, 23, 24, 25, 26, 27, 28, 29, 30, 31], \"xaxis\": \"x\", \"y\": [964, 983, 978, 745, 912, 980, 955, 965, 981, 978, 738, 896, 979, 955, 967, 982, 980, 749, 911, 983, 962, 972, 988, 978, 728, 729, 928, 981, 974, 989, 986], \"yaxis\": \"y\", \"type\": \"scatter\"}], \"name\": \"5\"}, {\"data\": [{\"hovertemplate\": \"<b>%{hovertext}</b><br><br>month=6<br>day=%{x}<br>count=%{y}<extra></extra>\", \"hovertext\": [\"2013-06-01T00:00:00\", \"2013-06-02T00:00:00\", \"2013-06-03T00:00:00\", \"2013-06-04T00:00:00\", \"2013-06-05T00:00:00\", \"2013-06-06T00:00:00\", \"2013-06-07T00:00:00\", \"2013-06-08T00:00:00\", \"2013-06-09T00:00:00\", \"2013-06-10T00:00:00\", \"2013-06-11T00:00:00\", \"2013-06-12T00:00:00\", \"2013-06-13T00:00:00\", \"2013-06-14T00:00:00\", \"2013-06-15T00:00:00\", \"2013-06-16T00:00:00\", \"2013-06-17T00:00:00\", \"2013-06-18T00:00:00\", \"2013-06-19T00:00:00\", \"2013-06-20T00:00:00\", \"2013-06-21T00:00:00\", \"2013-06-22T00:00:00\", \"2013-06-23T00:00:00\", \"2013-06-24T00:00:00\", \"2013-06-25T00:00:00\", \"2013-06-26T00:00:00\", \"2013-06-27T00:00:00\", \"2013-06-28T00:00:00\", \"2013-06-29T00:00:00\", \"2013-06-30T00:00:00\"], \"legendgroup\": \"\", \"line\": {\"color\": \"#636efa\", \"dash\": \"solid\"}, \"mode\": \"lines\", \"name\": \"\", \"orientation\": \"v\", \"showlegend\": false, \"x\": [1, 2, 3, 4, 5, 6, 7, 8, 9, 10, 11, 12, 13, 14, 15, 16, 17, 18, 19, 20, 21, 22, 23, 24, 25, 26, 27, 28, 29, 30], \"xaxis\": \"x\", \"y\": [754, 911, 982, 960, 970, 976, 975, 779, 908, 987, 980, 983, 989, 989, 801, 918, 990, 982, 985, 995, 993, 812, 923, 994, 993, 995, 995, 994, 812, 918], \"yaxis\": \"y\", \"type\": \"scatter\"}], \"name\": \"6\"}, {\"data\": [{\"hovertemplate\": \"<b>%{hovertext}</b><br><br>month=7<br>day=%{x}<br>count=%{y}<extra></extra>\", \"hovertext\": [\"2013-07-01T00:00:00\", \"2013-07-02T00:00:00\", \"2013-07-03T00:00:00\", \"2013-07-04T00:00:00\", \"2013-07-05T00:00:00\", \"2013-07-06T00:00:00\", \"2013-07-07T00:00:00\", \"2013-07-08T00:00:00\", \"2013-07-09T00:00:00\", \"2013-07-10T00:00:00\", \"2013-07-11T00:00:00\", \"2013-07-12T00:00:00\", \"2013-07-13T00:00:00\", \"2013-07-14T00:00:00\", \"2013-07-15T00:00:00\", \"2013-07-16T00:00:00\", \"2013-07-17T00:00:00\", \"2013-07-18T00:00:00\", \"2013-07-19T00:00:00\", \"2013-07-20T00:00:00\", \"2013-07-21T00:00:00\", \"2013-07-22T00:00:00\", \"2013-07-23T00:00:00\", \"2013-07-24T00:00:00\", \"2013-07-25T00:00:00\", \"2013-07-26T00:00:00\", \"2013-07-27T00:00:00\", \"2013-07-28T00:00:00\", \"2013-07-29T00:00:00\", \"2013-07-30T00:00:00\", \"2013-07-31T00:00:00\"], \"legendgroup\": \"\", \"line\": {\"color\": \"#636efa\", \"dash\": \"solid\"}, \"mode\": \"lines\", \"name\": \"\", \"orientation\": \"v\", \"showlegend\": false, \"x\": [1, 2, 3, 4, 5, 6, 7, 8, 9, 10, 11, 12, 13, 14, 15, 16, 17, 18, 19, 20, 21, 22, 23, 24, 25, 26, 27, 28, 29, 30, 31], \"xaxis\": \"x\", \"y\": [966, 945, 983, 737, 822, 805, 934, 1004, 1001, 1004, 1006, 1002, 811, 931, 999, 996, 1001, 1003, 999, 810, 929, 1000, 997, 1000, 1003, 999, 811, 930, 999, 997, 1001], \"yaxis\": \"y\", \"type\": \"scatter\"}], \"name\": \"7\"}, {\"data\": [{\"hovertemplate\": \"<b>%{hovertext}</b><br><br>month=8<br>day=%{x}<br>count=%{y}<extra></extra>\", \"hovertext\": [\"2013-08-01T00:00:00\", \"2013-08-02T00:00:00\", \"2013-08-03T00:00:00\", \"2013-08-04T00:00:00\", \"2013-08-05T00:00:00\", \"2013-08-06T00:00:00\", \"2013-08-07T00:00:00\", \"2013-08-08T00:00:00\", \"2013-08-09T00:00:00\", \"2013-08-10T00:00:00\", \"2013-08-11T00:00:00\", \"2013-08-12T00:00:00\", \"2013-08-13T00:00:00\", \"2013-08-14T00:00:00\", \"2013-08-15T00:00:00\", \"2013-08-16T00:00:00\", \"2013-08-17T00:00:00\", \"2013-08-18T00:00:00\", \"2013-08-19T00:00:00\", \"2013-08-20T00:00:00\", \"2013-08-21T00:00:00\", \"2013-08-22T00:00:00\", \"2013-08-23T00:00:00\", \"2013-08-24T00:00:00\", \"2013-08-25T00:00:00\", \"2013-08-26T00:00:00\", \"2013-08-27T00:00:00\", \"2013-08-28T00:00:00\", \"2013-08-29T00:00:00\", \"2013-08-30T00:00:00\", \"2013-08-31T00:00:00\"], \"legendgroup\": \"\", \"line\": {\"color\": \"#636efa\", \"dash\": \"solid\"}, \"mode\": \"lines\", \"name\": \"\", \"orientation\": \"v\", \"showlegend\": false, \"x\": [1, 2, 3, 4, 5, 6, 7, 8, 9, 10, 11, 12, 13, 14, 15, 16, 17, 18, 19, 20, 21, 22, 23, 24, 25, 26, 27, 28, 29, 30, 31], \"xaxis\": \"x\", \"y\": [1000, 999, 809, 929, 1000, 996, 1001, 1001, 999, 807, 929, 1001, 995, 997, 1000, 998, 780, 914, 996, 986, 990, 990, 989, 774, 903, 982, 965, 973, 979, 965, 680], \"yaxis\": \"y\", \"type\": \"scatter\"}], \"name\": \"8\"}, {\"data\": [{\"hovertemplate\": \"<b>%{hovertext}</b><br><br>month=9<br>day=%{x}<br>count=%{y}<extra></extra>\", \"hovertext\": [\"2013-09-01T00:00:00\", \"2013-09-02T00:00:00\", \"2013-09-03T00:00:00\", \"2013-09-04T00:00:00\", \"2013-09-05T00:00:00\", \"2013-09-06T00:00:00\", \"2013-09-07T00:00:00\", \"2013-09-08T00:00:00\", \"2013-09-09T00:00:00\", \"2013-09-10T00:00:00\", \"2013-09-11T00:00:00\", \"2013-09-12T00:00:00\", \"2013-09-13T00:00:00\", \"2013-09-14T00:00:00\", \"2013-09-15T00:00:00\", \"2013-09-16T00:00:00\", \"2013-09-17T00:00:00\", \"2013-09-18T00:00:00\", \"2013-09-19T00:00:00\", \"2013-09-20T00:00:00\", \"2013-09-21T00:00:00\", \"2013-09-22T00:00:00\", \"2013-09-23T00:00:00\", \"2013-09-24T00:00:00\", \"2013-09-25T00:00:00\", \"2013-09-26T00:00:00\", \"2013-09-27T00:00:00\", \"2013-09-28T00:00:00\", \"2013-09-29T00:00:00\", \"2013-09-30T00:00:00\"], \"legendgroup\": \"\", \"line\": {\"color\": \"#636efa\", \"dash\": \"solid\"}, \"mode\": \"lines\", \"name\": \"\", \"orientation\": \"v\", \"showlegend\": false, \"x\": [1, 2, 3, 4, 5, 6, 7, 8, 9, 10, 11, 12, 13, 14, 15, 16, 17, 18, 19, 20, 21, 22, 23, 24, 25, 26, 27, 28, 29, 30], \"xaxis\": \"x\", \"y\": [718, 929, 956, 948, 969, 967, 688, 908, 991, 961, 947, 992, 996, 686, 900, 992, 961, 972, 992, 994, 693, 904, 993, 960, 976, 996, 996, 682, 914, 993], \"yaxis\": \"y\", \"type\": \"scatter\"}], \"name\": \"9\"}, {\"data\": [{\"hovertemplate\": \"<b>%{hovertext}</b><br><br>month=10<br>day=%{x}<br>count=%{y}<extra></extra>\", \"hovertext\": [\"2013-10-01T00:00:00\", \"2013-10-02T00:00:00\", \"2013-10-03T00:00:00\", \"2013-10-04T00:00:00\", \"2013-10-05T00:00:00\", \"2013-10-06T00:00:00\", \"2013-10-07T00:00:00\", \"2013-10-08T00:00:00\", \"2013-10-09T00:00:00\", \"2013-10-10T00:00:00\", \"2013-10-11T00:00:00\", \"2013-10-12T00:00:00\", \"2013-10-13T00:00:00\", \"2013-10-14T00:00:00\", \"2013-10-15T00:00:00\", \"2013-10-16T00:00:00\", \"2013-10-17T00:00:00\", \"2013-10-18T00:00:00\", \"2013-10-19T00:00:00\", \"2013-10-20T00:00:00\", \"2013-10-21T00:00:00\", \"2013-10-22T00:00:00\", \"2013-10-23T00:00:00\", \"2013-10-24T00:00:00\", \"2013-10-25T00:00:00\", \"2013-10-26T00:00:00\", \"2013-10-27T00:00:00\", \"2013-10-28T00:00:00\", \"2013-10-29T00:00:00\", \"2013-10-30T00:00:00\", \"2013-10-31T00:00:00\"], \"legendgroup\": \"\", \"line\": {\"color\": \"#636efa\", \"dash\": \"solid\"}, \"mode\": \"lines\", \"name\": \"\", \"orientation\": \"v\", \"showlegend\": false, \"x\": [1, 2, 3, 4, 5, 6, 7, 8, 9, 10, 11, 12, 13, 14, 15, 16, 17, 18, 19, 20, 21, 22, 23, 24, 25, 26, 27, 28, 29, 30, 31], \"xaxis\": \"x\", \"y\": [965, 975, 995, 995, 687, 917, 994, 964, 974, 994, 991, 676, 902, 987, 963, 974, 995, 993, 684, 915, 991, 964, 975, 992, 989, 685, 910, 983, 965, 973, 922], \"yaxis\": \"y\", \"type\": \"scatter\"}], \"name\": \"10\"}, {\"data\": [{\"hovertemplate\": \"<b>%{hovertext}</b><br><br>month=11<br>day=%{x}<br>count=%{y}<extra></extra>\", \"hovertext\": [\"2013-11-01T00:00:00\", \"2013-11-02T00:00:00\", \"2013-11-03T00:00:00\", \"2013-11-04T00:00:00\", \"2013-11-05T00:00:00\", \"2013-11-06T00:00:00\", \"2013-11-07T00:00:00\", \"2013-11-08T00:00:00\", \"2013-11-09T00:00:00\", \"2013-11-10T00:00:00\", \"2013-11-11T00:00:00\", \"2013-11-12T00:00:00\", \"2013-11-13T00:00:00\", \"2013-11-14T00:00:00\", \"2013-11-15T00:00:00\", \"2013-11-16T00:00:00\", \"2013-11-17T00:00:00\", \"2013-11-18T00:00:00\", \"2013-11-19T00:00:00\", \"2013-11-20T00:00:00\", \"2013-11-21T00:00:00\", \"2013-11-22T00:00:00\", \"2013-11-23T00:00:00\", \"2013-11-24T00:00:00\", \"2013-11-25T00:00:00\", \"2013-11-26T00:00:00\", \"2013-11-27T00:00:00\", \"2013-11-28T00:00:00\", \"2013-11-29T00:00:00\", \"2013-11-30T00:00:00\"], \"legendgroup\": \"\", \"line\": {\"color\": \"#636efa\", \"dash\": \"solid\"}, \"mode\": \"lines\", \"name\": \"\", \"orientation\": \"v\", \"showlegend\": false, \"x\": [1, 2, 3, 4, 5, 6, 7, 8, 9, 10, 11, 12, 13, 14, 15, 16, 17, 18, 19, 20, 21, 22, 23, 24, 25, 26, 27, 28, 29, 30], \"xaxis\": \"x\", \"y\": [986, 689, 902, 978, 967, 973, 991, 986, 715, 895, 983, 973, 976, 988, 985, 714, 896, 985, 973, 977, 1000, 999, 744, 896, 942, 989, 1014, 634, 661, 857], \"yaxis\": \"y\", \"type\": \"scatter\"}], \"name\": \"11\"}, {\"data\": [{\"hovertemplate\": \"<b>%{hovertext}</b><br><br>month=12<br>day=%{x}<br>count=%{y}<extra></extra>\", \"hovertext\": [\"2013-12-01T00:00:00\", \"2013-12-02T00:00:00\", \"2013-12-03T00:00:00\", \"2013-12-04T00:00:00\", \"2013-12-05T00:00:00\", \"2013-12-06T00:00:00\", \"2013-12-07T00:00:00\", \"2013-12-08T00:00:00\", \"2013-12-09T00:00:00\", \"2013-12-10T00:00:00\", \"2013-12-11T00:00:00\", \"2013-12-12T00:00:00\", \"2013-12-13T00:00:00\", \"2013-12-14T00:00:00\", \"2013-12-15T00:00:00\", \"2013-12-16T00:00:00\", \"2013-12-17T00:00:00\", \"2013-12-18T00:00:00\", \"2013-12-19T00:00:00\", \"2013-12-20T00:00:00\", \"2013-12-21T00:00:00\", \"2013-12-22T00:00:00\", \"2013-12-23T00:00:00\", \"2013-12-24T00:00:00\", \"2013-12-25T00:00:00\", \"2013-12-26T00:00:00\", \"2013-12-27T00:00:00\", \"2013-12-28T00:00:00\", \"2013-12-29T00:00:00\", \"2013-12-30T00:00:00\", \"2013-12-31T00:00:00\"], \"legendgroup\": \"\", \"line\": {\"color\": \"#636efa\", \"dash\": \"solid\"}, \"mode\": \"lines\", \"name\": \"\", \"orientation\": \"v\", \"showlegend\": false, \"x\": [1, 2, 3, 4, 5, 6, 7, 8, 9, 10, 11, 12, 13, 14, 15, 16, 17, 18, 19, 20, 21, 22, 23, 24, 25, 26, 27, 28, 29, 30, 31], \"xaxis\": \"x\", \"y\": [987, 1004, 973, 958, 969, 970, 691, 875, 962, 943, 954, 968, 970, 692, 880, 964, 949, 956, 974, 980, 811, 895, 985, 761, 719, 936, 963, 814, 888, 968, 776], \"yaxis\": \"y\", \"type\": \"scatter\"}], \"name\": \"12\"}]);\n",
       "                        }).then(function(){\n",
       "                            \n",
       "var gd = document.getElementById('e74f82e7-a230-435e-86e6-f6aa61974b54');\n",
       "var x = new MutationObserver(function (mutations, observer) {{\n",
       "        var display = window.getComputedStyle(gd).display;\n",
       "        if (!display || display === 'none') {{\n",
       "            console.log([gd, 'removed!']);\n",
       "            Plotly.purge(gd);\n",
       "            observer.disconnect();\n",
       "        }}\n",
       "}});\n",
       "\n",
       "// Listen for the removal of the full notebook cells\n",
       "var notebookContainer = gd.closest('#notebook-container');\n",
       "if (notebookContainer) {{\n",
       "    x.observe(notebookContainer, {childList: true});\n",
       "}}\n",
       "\n",
       "// Listen for the clearing of the current output cell\n",
       "var outputEl = gd.closest('.output');\n",
       "if (outputEl) {{\n",
       "    x.observe(outputEl, {childList: true});\n",
       "}}\n",
       "\n",
       "                        })                };                });            </script>        </div>"
      ]
     },
     "metadata": {},
     "output_type": "display_data"
    }
   ],
   "source": [
    "airlines = nycflights13.airlines\n",
    "airports = nycflights13.airports\n",
    "flights = nycflights13.flights\n",
    "planes = nycflights13.planes\n",
    "weather = nycflights13.weather\n",
    "\n",
    "flight_count = flights.groupby(['year', 'month', 'day'])\\\n",
    "                .count()\\\n",
    "                .reset_index()\\\n",
    "                .drop(['origin','dest','tailnum','carrier'], axis=1)\\\n",
    "                .rename(columns={'hour': 'count'})\n",
    "\n",
    "flight_count['date'] = pd.to_datetime(flight_count[['year', 'month', 'day']])\n",
    "flight2 = flight_count.drop(['year'], axis=1)\n",
    "\n",
    "\n",
    "\n",
    "fig = px.line(flight2, x=\"day\", y=\"count\", animation_frame=\"month\", hover_name=\"date\", range_y=[600,1100])\n",
    "\n",
    "fig[\"layout\"].pop(\"updatemenus\") # optional, drop animation buttons\n",
    "fig.show()"
   ]
  },
  {
   "cell_type": "markdown",
   "metadata": {},
   "source": [
    "Używając suwaka łatwo nam skupić się na różnicach w ilości lotów, gdy interesują nas zmiany na przestrzeni miesiąca."
   ]
  },
  {
   "cell_type": "markdown",
   "metadata": {},
   "source": [
    "## Wykres 3"
   ]
  },
  {
   "cell_type": "code",
   "execution_count": 101,
   "metadata": {},
   "outputs": [
    {
     "data": {
      "application/vnd.plotly.v1+json": {
       "config": {
        "plotlyServerURL": "https://plot.ly"
       },
       "data": [
        {
         "hovertemplate": "wind_speed=%{r}<br>wind_dir=%{theta}<br>count=%{marker.size}<extra></extra>",
         "legendgroup": "",
         "marker": {
          "color": "#636efa",
          "size": [
           586,
           7,
           23,
           20,
           32,
           30,
           19,
           21,
           30,
           20,
           7,
           8,
           7,
           4,
           4,
           3,
           3,
           2,
           1,
           1,
           13,
           31,
           43,
           38,
           48,
           47,
           30,
           29,
           25,
           12,
           11,
           7,
           7,
           3,
           7,
           2,
           2,
           1,
           2,
           1,
           18,
           24,
           16,
           27,
           18,
           24,
           15,
           17,
           21,
           16,
           10,
           5,
           4,
           3,
           2,
           1,
           1,
           1,
           1,
           13,
           9,
           16,
           9,
           10,
           5,
           7,
           6,
           11,
           6,
           11,
           9,
           3,
           6,
           1,
           1,
           1,
           1,
           1,
           10,
           18,
           14,
           8,
           12,
           6,
           7,
           3,
           4,
           8,
           4,
           2,
           3,
           2,
           1,
           2,
           1,
           2,
           12,
           7,
           7,
           12,
           7,
           9,
           10,
           2,
           5,
           3,
           2,
           3,
           2,
           1,
           1,
           9,
           13,
           12,
           12,
           8,
           6,
           6,
           7,
           6,
           2,
           1,
           2,
           5,
           1,
           9,
           10,
           16,
           18,
           7,
           7,
           2,
           3,
           1,
           6,
           1,
           1,
           10,
           13,
           14,
           14,
           7,
           5,
           7,
           3,
           1,
           2,
           1,
           7,
           12,
           10,
           12,
           8,
           8,
           4,
           3,
           5,
           4,
           2,
           2,
           13,
           19,
           12,
           8,
           21,
           8,
           5,
           2,
           2,
           4,
           1,
           1,
           1,
           5,
           9,
           14,
           16,
           7,
           8,
           9,
           3,
           7,
           1,
           1,
           9,
           14,
           13,
           9,
           7,
           14,
           12,
           12,
           7,
           2,
           2,
           15,
           16,
           20,
           19,
           20,
           17,
           22,
           16,
           5,
           7,
           2,
           4,
           1,
           17,
           28,
           23,
           27,
           20,
           17,
           10,
           14,
           7,
           1,
           3,
           1,
           1,
           24,
           26,
           29,
           32,
           24,
           14,
           12,
           7,
           5,
           2,
           1,
           1,
           1,
           20,
           29,
           26,
           21,
           21,
           16,
           9,
           6,
           6,
           1,
           2,
           1,
           1,
           15,
           28,
           16,
           27,
           22,
           14,
           12,
           13,
           6,
           4,
           1,
           2,
           1,
           1,
           1,
           1,
           1,
           22,
           20,
           21,
           16,
           20,
           32,
           16,
           15,
           9,
           8,
           2,
           3,
           1,
           1,
           1,
           1,
           2,
           24,
           28,
           25,
           18,
           20,
           15,
           20,
           20,
           10,
           9,
           7,
           4,
           2,
           5,
           2,
           30,
           40,
           34,
           36,
           14,
           14,
           9,
           12,
           14,
           11,
           6,
           6,
           4,
           4,
           1,
           1,
           1,
           21,
           33,
           49,
           56,
           50,
           39,
           38,
           32,
           23,
           18,
           15,
           10,
           8,
           7,
           5,
           3,
           2,
           19,
           26,
           31,
           45,
           67,
           50,
           49,
           49,
           31,
           28,
           18,
           9,
           8,
           5,
           2,
           5,
           1,
           2,
           1,
           1,
           18,
           19,
           36,
           32,
           50,
           57,
           44,
           48,
           34,
           18,
           15,
           13,
           3,
           4,
           4,
           1,
           1,
           13,
           24,
           28,
           28,
           33,
           36,
           36,
           30,
           18,
           14,
           18,
           7,
           14,
           10,
           3,
           8,
           3,
           1,
           2,
           1,
           1,
           15,
           21,
           34,
           42,
           34,
           31,
           33,
           35,
           26,
           22,
           13,
           18,
           11,
           6,
           10,
           4,
           4,
           3,
           2,
           1,
           1,
           3,
           2,
           1,
           2,
           1,
           1,
           16,
           11,
           35,
           32,
           35,
           29,
           35,
           20,
           14,
           24,
           19,
           14,
           14,
           10,
           7,
           9,
           3,
           3,
           2,
           2,
           1,
           1,
           1,
           1,
           1,
           1,
           7,
           21,
           24,
           33,
           25,
           33,
           17,
           19,
           19,
           21,
           21,
           18,
           9,
           16,
           11,
           6,
           5,
           2,
           2,
           2,
           2,
           2,
           1,
           1,
           9,
           10,
           20,
           15,
           17,
           30,
           23,
           18,
           19,
           20,
           24,
           22,
           15,
           13,
           7,
           9,
           10,
           4,
           4,
           5,
           1,
           2,
           1,
           5,
           9,
           18,
           16,
           26,
           30,
           25,
           18,
           25,
           19,
           19,
           17,
           14,
           17,
           9,
           6,
           9,
           7,
           3,
           4,
           1,
           1,
           1,
           7,
           16,
           14,
           28,
           20,
           33,
           29,
           35,
           28,
           32,
           26,
           20,
           18,
           16,
           10,
           3,
           7,
           5,
           8,
           2,
           2,
           4,
           7,
           15,
           21,
           23,
           19,
           24,
           29,
           27,
           24,
           30,
           24,
           26,
           12,
           12,
           4,
           4,
           5,
           4,
           2,
           2,
           1,
           1,
           4,
           3,
           13,
           14,
           13,
           24,
           23,
           18,
           37,
           20,
           19,
           18,
           11,
           13,
           5,
           7,
           4,
           2,
           1,
           3,
           1,
           1,
           1,
           6,
           6,
           10,
           9,
           19,
           24,
           23,
           17,
           17,
           20,
           14,
           10,
           5,
           4,
           3,
           1,
           4,
           9,
           8,
           5,
           13,
           17,
           15,
           16,
           16,
           10,
           11,
           7,
           2,
           4,
           1,
           1,
           1,
           9,
           12,
           17,
           15,
           18,
           15,
           14,
           27,
           12,
           13,
           4,
           2,
           5,
           3,
           1,
           2,
           1,
           1,
           2
          ],
          "sizemode": "area",
          "sizeref": 1.465,
          "symbol": "circle"
         },
         "mode": "markers",
         "name": "",
         "r": [
          0,
          3.4523399999999995,
          4.60312,
          5.7539,
          6.904679999999999,
          8.05546,
          9.20624,
          10.35702,
          11.5078,
          12.65858,
          13.809359999999998,
          14.96014,
          16.11092,
          17.261699999999998,
          18.41248,
          19.56326,
          21.86482,
          23.0156,
          25.31716,
          27.61872,
          3.4523399999999995,
          4.60312,
          5.7539,
          6.904679999999999,
          8.05546,
          9.20624,
          10.35702,
          11.5078,
          12.65858,
          13.809359999999998,
          14.96014,
          16.11092,
          17.261699999999998,
          18.41248,
          19.56326,
          21.86482,
          23.0156,
          25.31716,
          28.7695,
          29.92028,
          3.4523399999999995,
          4.60312,
          5.7539,
          6.904679999999999,
          8.05546,
          9.20624,
          10.35702,
          11.5078,
          12.65858,
          13.809359999999998,
          14.96014,
          16.11092,
          17.261699999999998,
          18.41248,
          19.56326,
          20.71404,
          25.31716,
          26.467940000000002,
          27.61872,
          3.4523399999999995,
          4.60312,
          5.7539,
          6.904679999999999,
          8.05546,
          9.20624,
          10.35702,
          11.5078,
          12.65858,
          13.809359999999998,
          14.96014,
          16.11092,
          17.261699999999998,
          18.41248,
          20.71404,
          21.86482,
          23.0156,
          24.16638,
          25.31716,
          3.4523399999999995,
          4.60312,
          5.7539,
          6.904679999999999,
          8.05546,
          9.20624,
          10.35702,
          11.5078,
          12.65858,
          13.809359999999998,
          14.96014,
          16.11092,
          17.261699999999998,
          18.41248,
          19.56326,
          20.71404,
          21.86482,
          28.7695,
          3.4523399999999995,
          4.60312,
          5.7539,
          6.904679999999999,
          8.05546,
          9.20624,
          10.35702,
          11.5078,
          13.809359999999998,
          14.96014,
          16.11092,
          17.261699999999998,
          18.41248,
          20.71404,
          21.86482,
          3.4523399999999995,
          4.60312,
          5.7539,
          6.904679999999999,
          8.05546,
          9.20624,
          10.35702,
          11.5078,
          12.65858,
          13.809359999999998,
          14.96014,
          16.11092,
          17.261699999999998,
          18.41248,
          3.4523399999999995,
          4.60312,
          5.7539,
          6.904679999999999,
          8.05546,
          9.20624,
          10.35702,
          11.5078,
          12.65858,
          13.809359999999998,
          14.96014,
          17.261699999999998,
          3.4523399999999995,
          4.60312,
          5.7539,
          6.904679999999999,
          8.05546,
          9.20624,
          10.35702,
          11.5078,
          12.65858,
          13.809359999999998,
          14.96014,
          3.4523399999999995,
          4.60312,
          5.7539,
          6.904679999999999,
          8.05546,
          9.20624,
          10.35702,
          11.5078,
          12.65858,
          13.809359999999998,
          16.11092,
          18.41248,
          3.4523399999999995,
          4.60312,
          5.7539,
          6.904679999999999,
          8.05546,
          9.20624,
          10.35702,
          11.5078,
          12.65858,
          13.809359999999998,
          14.96014,
          16.11092,
          18.41248,
          3.4523399999999995,
          4.60312,
          5.7539,
          6.904679999999999,
          8.05546,
          9.20624,
          10.35702,
          11.5078,
          12.65858,
          13.809359999999998,
          17.261699999999998,
          3.4523399999999995,
          4.60312,
          5.7539,
          6.904679999999999,
          8.05546,
          9.20624,
          10.35702,
          11.5078,
          12.65858,
          13.809359999999998,
          16.11092,
          3.4523399999999995,
          4.60312,
          5.7539,
          6.904679999999999,
          8.05546,
          9.20624,
          10.35702,
          11.5078,
          12.65858,
          13.809359999999998,
          14.96014,
          16.11092,
          17.261699999999998,
          3.4523399999999995,
          4.60312,
          5.7539,
          6.904679999999999,
          8.05546,
          9.20624,
          10.35702,
          11.5078,
          12.65858,
          13.809359999999998,
          14.96014,
          16.11092,
          17.261699999999998,
          3.4523399999999995,
          4.60312,
          5.7539,
          6.904679999999999,
          8.05546,
          9.20624,
          10.35702,
          11.5078,
          12.65858,
          13.809359999999998,
          14.96014,
          16.11092,
          17.261699999999998,
          3.4523399999999995,
          4.60312,
          5.7539,
          6.904679999999999,
          8.05546,
          9.20624,
          10.35702,
          11.5078,
          12.65858,
          13.809359999999998,
          14.96014,
          17.261699999999998,
          20.71404,
          3.4523399999999995,
          4.60312,
          5.7539,
          6.904679999999999,
          8.05546,
          9.20624,
          10.35702,
          11.5078,
          12.65858,
          13.809359999999998,
          14.96014,
          16.11092,
          17.261699999999998,
          18.41248,
          21.86482,
          27.61872,
          31.07106,
          3.4523399999999995,
          4.60312,
          5.7539,
          6.904679999999999,
          8.05546,
          9.20624,
          10.35702,
          11.5078,
          12.65858,
          13.809359999999998,
          14.96014,
          16.11092,
          18.41248,
          20.71404,
          23.0156,
          24.16638,
          25.31716,
          3.4523399999999995,
          4.60312,
          5.7539,
          6.904679999999999,
          8.05546,
          9.20624,
          10.35702,
          11.5078,
          12.65858,
          13.809359999999998,
          14.96014,
          16.11092,
          17.261699999999998,
          18.41248,
          20.71404,
          3.4523399999999995,
          4.60312,
          5.7539,
          6.904679999999999,
          8.05546,
          9.20624,
          10.35702,
          11.5078,
          12.65858,
          13.809359999999998,
          14.96014,
          16.11092,
          17.261699999999998,
          18.41248,
          19.56326,
          23.0156,
          25.31716,
          3.4523399999999995,
          4.60312,
          5.7539,
          6.904679999999999,
          8.05546,
          9.20624,
          10.35702,
          11.5078,
          12.65858,
          13.809359999999998,
          14.96014,
          16.11092,
          17.261699999999998,
          18.41248,
          19.56326,
          21.86482,
          23.0156,
          3.4523399999999995,
          4.60312,
          5.7539,
          6.904679999999999,
          8.05546,
          9.20624,
          10.35702,
          11.5078,
          12.65858,
          13.809359999999998,
          14.96014,
          16.11092,
          17.261699999999998,
          18.41248,
          19.56326,
          20.71404,
          21.86482,
          23.0156,
          25.31716,
          40.2773,
          3.4523399999999995,
          4.60312,
          5.7539,
          6.904679999999999,
          8.05546,
          9.20624,
          10.35702,
          11.5078,
          12.65858,
          13.809359999999998,
          14.96014,
          16.11092,
          17.261699999999998,
          18.41248,
          19.56326,
          21.86482,
          24.16638,
          3.4523399999999995,
          4.60312,
          5.7539,
          6.904679999999999,
          8.05546,
          9.20624,
          10.35702,
          11.5078,
          12.65858,
          13.809359999999998,
          14.96014,
          16.11092,
          17.261699999999998,
          18.41248,
          19.56326,
          20.71404,
          21.86482,
          23.0156,
          24.16638,
          26.467940000000002,
          27.61872,
          3.4523399999999995,
          4.60312,
          5.7539,
          6.904679999999999,
          8.05546,
          9.20624,
          10.35702,
          11.5078,
          12.65858,
          13.809359999999998,
          14.96014,
          16.11092,
          17.261699999999998,
          18.41248,
          19.56326,
          20.71404,
          21.86482,
          23.0156,
          24.16638,
          25.31716,
          26.467940000000002,
          27.61872,
          28.7695,
          29.92028,
          31.07106,
          33.37262,
          1048.36058,
          3.4523399999999995,
          4.60312,
          5.7539,
          6.904679999999999,
          8.05546,
          9.20624,
          10.35702,
          11.5078,
          12.65858,
          13.809359999999998,
          14.96014,
          16.11092,
          17.261699999999998,
          18.41248,
          19.56326,
          20.71404,
          21.86482,
          23.0156,
          24.16638,
          25.31716,
          26.467940000000002,
          31.07106,
          32.22184,
          34.523399999999995,
          39.12652,
          42.57886,
          3.4523399999999995,
          4.60312,
          5.7539,
          6.904679999999999,
          8.05546,
          9.20624,
          10.35702,
          11.5078,
          12.65858,
          13.809359999999998,
          14.96014,
          16.11092,
          17.261699999999998,
          18.41248,
          19.56326,
          20.71404,
          21.86482,
          23.0156,
          24.16638,
          25.31716,
          26.467940000000002,
          27.61872,
          29.92028,
          33.37262,
          3.4523399999999995,
          4.60312,
          5.7539,
          6.904679999999999,
          8.05546,
          9.20624,
          10.35702,
          11.5078,
          12.65858,
          13.809359999999998,
          14.96014,
          16.11092,
          17.261699999999998,
          18.41248,
          19.56326,
          20.71404,
          21.86482,
          23.0156,
          24.16638,
          25.31716,
          26.467940000000002,
          27.61872,
          28.7695,
          3.4523399999999995,
          4.60312,
          5.7539,
          6.904679999999999,
          8.05546,
          9.20624,
          10.35702,
          11.5078,
          12.65858,
          13.809359999999998,
          14.96014,
          16.11092,
          17.261699999999998,
          18.41248,
          19.56326,
          20.71404,
          21.86482,
          23.0156,
          24.16638,
          25.31716,
          26.467940000000002,
          27.61872,
          31.07106,
          3.4523399999999995,
          4.60312,
          5.7539,
          6.904679999999999,
          8.05546,
          9.20624,
          10.35702,
          11.5078,
          12.65858,
          13.809359999999998,
          14.96014,
          16.11092,
          17.261699999999998,
          18.41248,
          19.56326,
          20.71404,
          21.86482,
          23.0156,
          24.16638,
          25.31716,
          27.61872,
          3.4523399999999995,
          4.60312,
          5.7539,
          6.904679999999999,
          8.05546,
          9.20624,
          10.35702,
          11.5078,
          12.65858,
          13.809359999999998,
          14.96014,
          16.11092,
          17.261699999999998,
          18.41248,
          19.56326,
          20.71404,
          21.86482,
          23.0156,
          24.16638,
          25.31716,
          27.61872,
          28.7695,
          33.37262,
          3.4523399999999995,
          4.60312,
          5.7539,
          6.904679999999999,
          8.05546,
          9.20624,
          10.35702,
          11.5078,
          12.65858,
          13.809359999999998,
          14.96014,
          16.11092,
          17.261699999999998,
          18.41248,
          19.56326,
          20.71404,
          21.86482,
          23.0156,
          24.16638,
          25.31716,
          27.61872,
          28.7695,
          3.4523399999999995,
          4.60312,
          5.7539,
          6.904679999999999,
          8.05546,
          9.20624,
          10.35702,
          11.5078,
          12.65858,
          13.809359999999998,
          14.96014,
          16.11092,
          17.261699999999998,
          18.41248,
          19.56326,
          20.71404,
          23.0156,
          3.4523399999999995,
          4.60312,
          5.7539,
          6.904679999999999,
          8.05546,
          9.20624,
          10.35702,
          11.5078,
          12.65858,
          13.809359999999998,
          14.96014,
          16.11092,
          17.261699999999998,
          18.41248,
          20.71404,
          25.31716,
          26.467940000000002,
          3.4523399999999995,
          4.60312,
          5.7539,
          6.904679999999999,
          8.05546,
          9.20624,
          10.35702,
          11.5078,
          12.65858,
          13.809359999999998,
          14.96014,
          16.11092,
          17.261699999999998,
          18.41248,
          19.56326,
          20.71404,
          21.86482,
          23.0156,
          24.16638
         ],
         "showlegend": false,
         "subplot": "polar",
         "theta": [
          0,
          10,
          10,
          10,
          10,
          10,
          10,
          10,
          10,
          10,
          10,
          10,
          10,
          10,
          10,
          10,
          10,
          10,
          10,
          10,
          20,
          20,
          20,
          20,
          20,
          20,
          20,
          20,
          20,
          20,
          20,
          20,
          20,
          20,
          20,
          20,
          20,
          20,
          20,
          20,
          30,
          30,
          30,
          30,
          30,
          30,
          30,
          30,
          30,
          30,
          30,
          30,
          30,
          30,
          30,
          30,
          30,
          30,
          30,
          40,
          40,
          40,
          40,
          40,
          40,
          40,
          40,
          40,
          40,
          40,
          40,
          40,
          40,
          40,
          40,
          40,
          40,
          40,
          50,
          50,
          50,
          50,
          50,
          50,
          50,
          50,
          50,
          50,
          50,
          50,
          50,
          50,
          50,
          50,
          50,
          50,
          60,
          60,
          60,
          60,
          60,
          60,
          60,
          60,
          60,
          60,
          60,
          60,
          60,
          60,
          60,
          70,
          70,
          70,
          70,
          70,
          70,
          70,
          70,
          70,
          70,
          70,
          70,
          70,
          70,
          80,
          80,
          80,
          80,
          80,
          80,
          80,
          80,
          80,
          80,
          80,
          80,
          90,
          90,
          90,
          90,
          90,
          90,
          90,
          90,
          90,
          90,
          90,
          100,
          100,
          100,
          100,
          100,
          100,
          100,
          100,
          100,
          100,
          100,
          100,
          110,
          110,
          110,
          110,
          110,
          110,
          110,
          110,
          110,
          110,
          110,
          110,
          110,
          120,
          120,
          120,
          120,
          120,
          120,
          120,
          120,
          120,
          120,
          120,
          130,
          130,
          130,
          130,
          130,
          130,
          130,
          130,
          130,
          130,
          130,
          140,
          140,
          140,
          140,
          140,
          140,
          140,
          140,
          140,
          140,
          140,
          140,
          140,
          150,
          150,
          150,
          150,
          150,
          150,
          150,
          150,
          150,
          150,
          150,
          150,
          150,
          160,
          160,
          160,
          160,
          160,
          160,
          160,
          160,
          160,
          160,
          160,
          160,
          160,
          170,
          170,
          170,
          170,
          170,
          170,
          170,
          170,
          170,
          170,
          170,
          170,
          170,
          180,
          180,
          180,
          180,
          180,
          180,
          180,
          180,
          180,
          180,
          180,
          180,
          180,
          180,
          180,
          180,
          180,
          190,
          190,
          190,
          190,
          190,
          190,
          190,
          190,
          190,
          190,
          190,
          190,
          190,
          190,
          190,
          190,
          190,
          200,
          200,
          200,
          200,
          200,
          200,
          200,
          200,
          200,
          200,
          200,
          200,
          200,
          200,
          200,
          210,
          210,
          210,
          210,
          210,
          210,
          210,
          210,
          210,
          210,
          210,
          210,
          210,
          210,
          210,
          210,
          210,
          220,
          220,
          220,
          220,
          220,
          220,
          220,
          220,
          220,
          220,
          220,
          220,
          220,
          220,
          220,
          220,
          220,
          230,
          230,
          230,
          230,
          230,
          230,
          230,
          230,
          230,
          230,
          230,
          230,
          230,
          230,
          230,
          230,
          230,
          230,
          230,
          230,
          240,
          240,
          240,
          240,
          240,
          240,
          240,
          240,
          240,
          240,
          240,
          240,
          240,
          240,
          240,
          240,
          240,
          250,
          250,
          250,
          250,
          250,
          250,
          250,
          250,
          250,
          250,
          250,
          250,
          250,
          250,
          250,
          250,
          250,
          250,
          250,
          250,
          250,
          260,
          260,
          260,
          260,
          260,
          260,
          260,
          260,
          260,
          260,
          260,
          260,
          260,
          260,
          260,
          260,
          260,
          260,
          260,
          260,
          260,
          260,
          260,
          260,
          260,
          260,
          260,
          270,
          270,
          270,
          270,
          270,
          270,
          270,
          270,
          270,
          270,
          270,
          270,
          270,
          270,
          270,
          270,
          270,
          270,
          270,
          270,
          270,
          270,
          270,
          270,
          270,
          270,
          280,
          280,
          280,
          280,
          280,
          280,
          280,
          280,
          280,
          280,
          280,
          280,
          280,
          280,
          280,
          280,
          280,
          280,
          280,
          280,
          280,
          280,
          280,
          280,
          290,
          290,
          290,
          290,
          290,
          290,
          290,
          290,
          290,
          290,
          290,
          290,
          290,
          290,
          290,
          290,
          290,
          290,
          290,
          290,
          290,
          290,
          290,
          300,
          300,
          300,
          300,
          300,
          300,
          300,
          300,
          300,
          300,
          300,
          300,
          300,
          300,
          300,
          300,
          300,
          300,
          300,
          300,
          300,
          300,
          300,
          310,
          310,
          310,
          310,
          310,
          310,
          310,
          310,
          310,
          310,
          310,
          310,
          310,
          310,
          310,
          310,
          310,
          310,
          310,
          310,
          310,
          320,
          320,
          320,
          320,
          320,
          320,
          320,
          320,
          320,
          320,
          320,
          320,
          320,
          320,
          320,
          320,
          320,
          320,
          320,
          320,
          320,
          320,
          320,
          330,
          330,
          330,
          330,
          330,
          330,
          330,
          330,
          330,
          330,
          330,
          330,
          330,
          330,
          330,
          330,
          330,
          330,
          330,
          330,
          330,
          330,
          340,
          340,
          340,
          340,
          340,
          340,
          340,
          340,
          340,
          340,
          340,
          340,
          340,
          340,
          340,
          340,
          340,
          350,
          350,
          350,
          350,
          350,
          350,
          350,
          350,
          350,
          350,
          350,
          350,
          350,
          350,
          350,
          350,
          350,
          360,
          360,
          360,
          360,
          360,
          360,
          360,
          360,
          360,
          360,
          360,
          360,
          360,
          360,
          360,
          360,
          360,
          360,
          360
         ],
         "type": "scatterpolar"
        }
       ],
       "layout": {
        "legend": {
         "itemsizing": "constant",
         "tracegroupgap": 0
        },
        "margin": {
         "t": 60
        },
        "polar": {
         "angularaxis": {
          "direction": "clockwise",
          "rotation": 90,
          "showticklabels": true,
          "ticks": ""
         },
         "domain": {
          "x": [
           0,
           1
          ],
          "y": [
           0,
           1
          ]
         },
         "radialaxis": {
          "range": [
           0,
           45
          ],
          "showticklabels": true,
          "ticks": ""
         }
        },
        "template": {}
       }
      },
      "text/html": [
       "<div>                            <div id=\"295897ef-4383-440a-b441-1286d27503d7\" class=\"plotly-graph-div\" style=\"height:525px; width:100%;\"></div>            <script type=\"text/javascript\">                require([\"plotly\"], function(Plotly) {                    window.PLOTLYENV=window.PLOTLYENV || {};                                    if (document.getElementById(\"295897ef-4383-440a-b441-1286d27503d7\")) {                    Plotly.newPlot(                        \"295897ef-4383-440a-b441-1286d27503d7\",                        [{\"hovertemplate\": \"wind_speed=%{r}<br>wind_dir=%{theta}<br>count=%{marker.size}<extra></extra>\", \"legendgroup\": \"\", \"marker\": {\"color\": \"#636efa\", \"size\": [586, 7, 23, 20, 32, 30, 19, 21, 30, 20, 7, 8, 7, 4, 4, 3, 3, 2, 1, 1, 13, 31, 43, 38, 48, 47, 30, 29, 25, 12, 11, 7, 7, 3, 7, 2, 2, 1, 2, 1, 18, 24, 16, 27, 18, 24, 15, 17, 21, 16, 10, 5, 4, 3, 2, 1, 1, 1, 1, 13, 9, 16, 9, 10, 5, 7, 6, 11, 6, 11, 9, 3, 6, 1, 1, 1, 1, 1, 10, 18, 14, 8, 12, 6, 7, 3, 4, 8, 4, 2, 3, 2, 1, 2, 1, 2, 12, 7, 7, 12, 7, 9, 10, 2, 5, 3, 2, 3, 2, 1, 1, 9, 13, 12, 12, 8, 6, 6, 7, 6, 2, 1, 2, 5, 1, 9, 10, 16, 18, 7, 7, 2, 3, 1, 6, 1, 1, 10, 13, 14, 14, 7, 5, 7, 3, 1, 2, 1, 7, 12, 10, 12, 8, 8, 4, 3, 5, 4, 2, 2, 13, 19, 12, 8, 21, 8, 5, 2, 2, 4, 1, 1, 1, 5, 9, 14, 16, 7, 8, 9, 3, 7, 1, 1, 9, 14, 13, 9, 7, 14, 12, 12, 7, 2, 2, 15, 16, 20, 19, 20, 17, 22, 16, 5, 7, 2, 4, 1, 17, 28, 23, 27, 20, 17, 10, 14, 7, 1, 3, 1, 1, 24, 26, 29, 32, 24, 14, 12, 7, 5, 2, 1, 1, 1, 20, 29, 26, 21, 21, 16, 9, 6, 6, 1, 2, 1, 1, 15, 28, 16, 27, 22, 14, 12, 13, 6, 4, 1, 2, 1, 1, 1, 1, 1, 22, 20, 21, 16, 20, 32, 16, 15, 9, 8, 2, 3, 1, 1, 1, 1, 2, 24, 28, 25, 18, 20, 15, 20, 20, 10, 9, 7, 4, 2, 5, 2, 30, 40, 34, 36, 14, 14, 9, 12, 14, 11, 6, 6, 4, 4, 1, 1, 1, 21, 33, 49, 56, 50, 39, 38, 32, 23, 18, 15, 10, 8, 7, 5, 3, 2, 19, 26, 31, 45, 67, 50, 49, 49, 31, 28, 18, 9, 8, 5, 2, 5, 1, 2, 1, 1, 18, 19, 36, 32, 50, 57, 44, 48, 34, 18, 15, 13, 3, 4, 4, 1, 1, 13, 24, 28, 28, 33, 36, 36, 30, 18, 14, 18, 7, 14, 10, 3, 8, 3, 1, 2, 1, 1, 15, 21, 34, 42, 34, 31, 33, 35, 26, 22, 13, 18, 11, 6, 10, 4, 4, 3, 2, 1, 1, 3, 2, 1, 2, 1, 1, 16, 11, 35, 32, 35, 29, 35, 20, 14, 24, 19, 14, 14, 10, 7, 9, 3, 3, 2, 2, 1, 1, 1, 1, 1, 1, 7, 21, 24, 33, 25, 33, 17, 19, 19, 21, 21, 18, 9, 16, 11, 6, 5, 2, 2, 2, 2, 2, 1, 1, 9, 10, 20, 15, 17, 30, 23, 18, 19, 20, 24, 22, 15, 13, 7, 9, 10, 4, 4, 5, 1, 2, 1, 5, 9, 18, 16, 26, 30, 25, 18, 25, 19, 19, 17, 14, 17, 9, 6, 9, 7, 3, 4, 1, 1, 1, 7, 16, 14, 28, 20, 33, 29, 35, 28, 32, 26, 20, 18, 16, 10, 3, 7, 5, 8, 2, 2, 4, 7, 15, 21, 23, 19, 24, 29, 27, 24, 30, 24, 26, 12, 12, 4, 4, 5, 4, 2, 2, 1, 1, 4, 3, 13, 14, 13, 24, 23, 18, 37, 20, 19, 18, 11, 13, 5, 7, 4, 2, 1, 3, 1, 1, 1, 6, 6, 10, 9, 19, 24, 23, 17, 17, 20, 14, 10, 5, 4, 3, 1, 4, 9, 8, 5, 13, 17, 15, 16, 16, 10, 11, 7, 2, 4, 1, 1, 1, 9, 12, 17, 15, 18, 15, 14, 27, 12, 13, 4, 2, 5, 3, 1, 2, 1, 1, 2], \"sizemode\": \"area\", \"sizeref\": 1.465, \"symbol\": \"circle\"}, \"mode\": \"markers\", \"name\": \"\", \"r\": [0.0, 3.4523399999999995, 4.60312, 5.7539, 6.904679999999999, 8.05546, 9.20624, 10.35702, 11.5078, 12.65858, 13.809359999999998, 14.96014, 16.11092, 17.261699999999998, 18.41248, 19.56326, 21.86482, 23.0156, 25.31716, 27.61872, 3.4523399999999995, 4.60312, 5.7539, 6.904679999999999, 8.05546, 9.20624, 10.35702, 11.5078, 12.65858, 13.809359999999998, 14.96014, 16.11092, 17.261699999999998, 18.41248, 19.56326, 21.86482, 23.0156, 25.31716, 28.7695, 29.92028, 3.4523399999999995, 4.60312, 5.7539, 6.904679999999999, 8.05546, 9.20624, 10.35702, 11.5078, 12.65858, 13.809359999999998, 14.96014, 16.11092, 17.261699999999998, 18.41248, 19.56326, 20.71404, 25.31716, 26.467940000000002, 27.61872, 3.4523399999999995, 4.60312, 5.7539, 6.904679999999999, 8.05546, 9.20624, 10.35702, 11.5078, 12.65858, 13.809359999999998, 14.96014, 16.11092, 17.261699999999998, 18.41248, 20.71404, 21.86482, 23.0156, 24.16638, 25.31716, 3.4523399999999995, 4.60312, 5.7539, 6.904679999999999, 8.05546, 9.20624, 10.35702, 11.5078, 12.65858, 13.809359999999998, 14.96014, 16.11092, 17.261699999999998, 18.41248, 19.56326, 20.71404, 21.86482, 28.7695, 3.4523399999999995, 4.60312, 5.7539, 6.904679999999999, 8.05546, 9.20624, 10.35702, 11.5078, 13.809359999999998, 14.96014, 16.11092, 17.261699999999998, 18.41248, 20.71404, 21.86482, 3.4523399999999995, 4.60312, 5.7539, 6.904679999999999, 8.05546, 9.20624, 10.35702, 11.5078, 12.65858, 13.809359999999998, 14.96014, 16.11092, 17.261699999999998, 18.41248, 3.4523399999999995, 4.60312, 5.7539, 6.904679999999999, 8.05546, 9.20624, 10.35702, 11.5078, 12.65858, 13.809359999999998, 14.96014, 17.261699999999998, 3.4523399999999995, 4.60312, 5.7539, 6.904679999999999, 8.05546, 9.20624, 10.35702, 11.5078, 12.65858, 13.809359999999998, 14.96014, 3.4523399999999995, 4.60312, 5.7539, 6.904679999999999, 8.05546, 9.20624, 10.35702, 11.5078, 12.65858, 13.809359999999998, 16.11092, 18.41248, 3.4523399999999995, 4.60312, 5.7539, 6.904679999999999, 8.05546, 9.20624, 10.35702, 11.5078, 12.65858, 13.809359999999998, 14.96014, 16.11092, 18.41248, 3.4523399999999995, 4.60312, 5.7539, 6.904679999999999, 8.05546, 9.20624, 10.35702, 11.5078, 12.65858, 13.809359999999998, 17.261699999999998, 3.4523399999999995, 4.60312, 5.7539, 6.904679999999999, 8.05546, 9.20624, 10.35702, 11.5078, 12.65858, 13.809359999999998, 16.11092, 3.4523399999999995, 4.60312, 5.7539, 6.904679999999999, 8.05546, 9.20624, 10.35702, 11.5078, 12.65858, 13.809359999999998, 14.96014, 16.11092, 17.261699999999998, 3.4523399999999995, 4.60312, 5.7539, 6.904679999999999, 8.05546, 9.20624, 10.35702, 11.5078, 12.65858, 13.809359999999998, 14.96014, 16.11092, 17.261699999999998, 3.4523399999999995, 4.60312, 5.7539, 6.904679999999999, 8.05546, 9.20624, 10.35702, 11.5078, 12.65858, 13.809359999999998, 14.96014, 16.11092, 17.261699999999998, 3.4523399999999995, 4.60312, 5.7539, 6.904679999999999, 8.05546, 9.20624, 10.35702, 11.5078, 12.65858, 13.809359999999998, 14.96014, 17.261699999999998, 20.71404, 3.4523399999999995, 4.60312, 5.7539, 6.904679999999999, 8.05546, 9.20624, 10.35702, 11.5078, 12.65858, 13.809359999999998, 14.96014, 16.11092, 17.261699999999998, 18.41248, 21.86482, 27.61872, 31.07106, 3.4523399999999995, 4.60312, 5.7539, 6.904679999999999, 8.05546, 9.20624, 10.35702, 11.5078, 12.65858, 13.809359999999998, 14.96014, 16.11092, 18.41248, 20.71404, 23.0156, 24.16638, 25.31716, 3.4523399999999995, 4.60312, 5.7539, 6.904679999999999, 8.05546, 9.20624, 10.35702, 11.5078, 12.65858, 13.809359999999998, 14.96014, 16.11092, 17.261699999999998, 18.41248, 20.71404, 3.4523399999999995, 4.60312, 5.7539, 6.904679999999999, 8.05546, 9.20624, 10.35702, 11.5078, 12.65858, 13.809359999999998, 14.96014, 16.11092, 17.261699999999998, 18.41248, 19.56326, 23.0156, 25.31716, 3.4523399999999995, 4.60312, 5.7539, 6.904679999999999, 8.05546, 9.20624, 10.35702, 11.5078, 12.65858, 13.809359999999998, 14.96014, 16.11092, 17.261699999999998, 18.41248, 19.56326, 21.86482, 23.0156, 3.4523399999999995, 4.60312, 5.7539, 6.904679999999999, 8.05546, 9.20624, 10.35702, 11.5078, 12.65858, 13.809359999999998, 14.96014, 16.11092, 17.261699999999998, 18.41248, 19.56326, 20.71404, 21.86482, 23.0156, 25.31716, 40.2773, 3.4523399999999995, 4.60312, 5.7539, 6.904679999999999, 8.05546, 9.20624, 10.35702, 11.5078, 12.65858, 13.809359999999998, 14.96014, 16.11092, 17.261699999999998, 18.41248, 19.56326, 21.86482, 24.16638, 3.4523399999999995, 4.60312, 5.7539, 6.904679999999999, 8.05546, 9.20624, 10.35702, 11.5078, 12.65858, 13.809359999999998, 14.96014, 16.11092, 17.261699999999998, 18.41248, 19.56326, 20.71404, 21.86482, 23.0156, 24.16638, 26.467940000000002, 27.61872, 3.4523399999999995, 4.60312, 5.7539, 6.904679999999999, 8.05546, 9.20624, 10.35702, 11.5078, 12.65858, 13.809359999999998, 14.96014, 16.11092, 17.261699999999998, 18.41248, 19.56326, 20.71404, 21.86482, 23.0156, 24.16638, 25.31716, 26.467940000000002, 27.61872, 28.7695, 29.92028, 31.07106, 33.37262, 1048.36058, 3.4523399999999995, 4.60312, 5.7539, 6.904679999999999, 8.05546, 9.20624, 10.35702, 11.5078, 12.65858, 13.809359999999998, 14.96014, 16.11092, 17.261699999999998, 18.41248, 19.56326, 20.71404, 21.86482, 23.0156, 24.16638, 25.31716, 26.467940000000002, 31.07106, 32.22184, 34.523399999999995, 39.12652, 42.57886, 3.4523399999999995, 4.60312, 5.7539, 6.904679999999999, 8.05546, 9.20624, 10.35702, 11.5078, 12.65858, 13.809359999999998, 14.96014, 16.11092, 17.261699999999998, 18.41248, 19.56326, 20.71404, 21.86482, 23.0156, 24.16638, 25.31716, 26.467940000000002, 27.61872, 29.92028, 33.37262, 3.4523399999999995, 4.60312, 5.7539, 6.904679999999999, 8.05546, 9.20624, 10.35702, 11.5078, 12.65858, 13.809359999999998, 14.96014, 16.11092, 17.261699999999998, 18.41248, 19.56326, 20.71404, 21.86482, 23.0156, 24.16638, 25.31716, 26.467940000000002, 27.61872, 28.7695, 3.4523399999999995, 4.60312, 5.7539, 6.904679999999999, 8.05546, 9.20624, 10.35702, 11.5078, 12.65858, 13.809359999999998, 14.96014, 16.11092, 17.261699999999998, 18.41248, 19.56326, 20.71404, 21.86482, 23.0156, 24.16638, 25.31716, 26.467940000000002, 27.61872, 31.07106, 3.4523399999999995, 4.60312, 5.7539, 6.904679999999999, 8.05546, 9.20624, 10.35702, 11.5078, 12.65858, 13.809359999999998, 14.96014, 16.11092, 17.261699999999998, 18.41248, 19.56326, 20.71404, 21.86482, 23.0156, 24.16638, 25.31716, 27.61872, 3.4523399999999995, 4.60312, 5.7539, 6.904679999999999, 8.05546, 9.20624, 10.35702, 11.5078, 12.65858, 13.809359999999998, 14.96014, 16.11092, 17.261699999999998, 18.41248, 19.56326, 20.71404, 21.86482, 23.0156, 24.16638, 25.31716, 27.61872, 28.7695, 33.37262, 3.4523399999999995, 4.60312, 5.7539, 6.904679999999999, 8.05546, 9.20624, 10.35702, 11.5078, 12.65858, 13.809359999999998, 14.96014, 16.11092, 17.261699999999998, 18.41248, 19.56326, 20.71404, 21.86482, 23.0156, 24.16638, 25.31716, 27.61872, 28.7695, 3.4523399999999995, 4.60312, 5.7539, 6.904679999999999, 8.05546, 9.20624, 10.35702, 11.5078, 12.65858, 13.809359999999998, 14.96014, 16.11092, 17.261699999999998, 18.41248, 19.56326, 20.71404, 23.0156, 3.4523399999999995, 4.60312, 5.7539, 6.904679999999999, 8.05546, 9.20624, 10.35702, 11.5078, 12.65858, 13.809359999999998, 14.96014, 16.11092, 17.261699999999998, 18.41248, 20.71404, 25.31716, 26.467940000000002, 3.4523399999999995, 4.60312, 5.7539, 6.904679999999999, 8.05546, 9.20624, 10.35702, 11.5078, 12.65858, 13.809359999999998, 14.96014, 16.11092, 17.261699999999998, 18.41248, 19.56326, 20.71404, 21.86482, 23.0156, 24.16638], \"showlegend\": false, \"subplot\": \"polar\", \"theta\": [0.0, 10.0, 10.0, 10.0, 10.0, 10.0, 10.0, 10.0, 10.0, 10.0, 10.0, 10.0, 10.0, 10.0, 10.0, 10.0, 10.0, 10.0, 10.0, 10.0, 20.0, 20.0, 20.0, 20.0, 20.0, 20.0, 20.0, 20.0, 20.0, 20.0, 20.0, 20.0, 20.0, 20.0, 20.0, 20.0, 20.0, 20.0, 20.0, 20.0, 30.0, 30.0, 30.0, 30.0, 30.0, 30.0, 30.0, 30.0, 30.0, 30.0, 30.0, 30.0, 30.0, 30.0, 30.0, 30.0, 30.0, 30.0, 30.0, 40.0, 40.0, 40.0, 40.0, 40.0, 40.0, 40.0, 40.0, 40.0, 40.0, 40.0, 40.0, 40.0, 40.0, 40.0, 40.0, 40.0, 40.0, 40.0, 50.0, 50.0, 50.0, 50.0, 50.0, 50.0, 50.0, 50.0, 50.0, 50.0, 50.0, 50.0, 50.0, 50.0, 50.0, 50.0, 50.0, 50.0, 60.0, 60.0, 60.0, 60.0, 60.0, 60.0, 60.0, 60.0, 60.0, 60.0, 60.0, 60.0, 60.0, 60.0, 60.0, 70.0, 70.0, 70.0, 70.0, 70.0, 70.0, 70.0, 70.0, 70.0, 70.0, 70.0, 70.0, 70.0, 70.0, 80.0, 80.0, 80.0, 80.0, 80.0, 80.0, 80.0, 80.0, 80.0, 80.0, 80.0, 80.0, 90.0, 90.0, 90.0, 90.0, 90.0, 90.0, 90.0, 90.0, 90.0, 90.0, 90.0, 100.0, 100.0, 100.0, 100.0, 100.0, 100.0, 100.0, 100.0, 100.0, 100.0, 100.0, 100.0, 110.0, 110.0, 110.0, 110.0, 110.0, 110.0, 110.0, 110.0, 110.0, 110.0, 110.0, 110.0, 110.0, 120.0, 120.0, 120.0, 120.0, 120.0, 120.0, 120.0, 120.0, 120.0, 120.0, 120.0, 130.0, 130.0, 130.0, 130.0, 130.0, 130.0, 130.0, 130.0, 130.0, 130.0, 130.0, 140.0, 140.0, 140.0, 140.0, 140.0, 140.0, 140.0, 140.0, 140.0, 140.0, 140.0, 140.0, 140.0, 150.0, 150.0, 150.0, 150.0, 150.0, 150.0, 150.0, 150.0, 150.0, 150.0, 150.0, 150.0, 150.0, 160.0, 160.0, 160.0, 160.0, 160.0, 160.0, 160.0, 160.0, 160.0, 160.0, 160.0, 160.0, 160.0, 170.0, 170.0, 170.0, 170.0, 170.0, 170.0, 170.0, 170.0, 170.0, 170.0, 170.0, 170.0, 170.0, 180.0, 180.0, 180.0, 180.0, 180.0, 180.0, 180.0, 180.0, 180.0, 180.0, 180.0, 180.0, 180.0, 180.0, 180.0, 180.0, 180.0, 190.0, 190.0, 190.0, 190.0, 190.0, 190.0, 190.0, 190.0, 190.0, 190.0, 190.0, 190.0, 190.0, 190.0, 190.0, 190.0, 190.0, 200.0, 200.0, 200.0, 200.0, 200.0, 200.0, 200.0, 200.0, 200.0, 200.0, 200.0, 200.0, 200.0, 200.0, 200.0, 210.0, 210.0, 210.0, 210.0, 210.0, 210.0, 210.0, 210.0, 210.0, 210.0, 210.0, 210.0, 210.0, 210.0, 210.0, 210.0, 210.0, 220.0, 220.0, 220.0, 220.0, 220.0, 220.0, 220.0, 220.0, 220.0, 220.0, 220.0, 220.0, 220.0, 220.0, 220.0, 220.0, 220.0, 230.0, 230.0, 230.0, 230.0, 230.0, 230.0, 230.0, 230.0, 230.0, 230.0, 230.0, 230.0, 230.0, 230.0, 230.0, 230.0, 230.0, 230.0, 230.0, 230.0, 240.0, 240.0, 240.0, 240.0, 240.0, 240.0, 240.0, 240.0, 240.0, 240.0, 240.0, 240.0, 240.0, 240.0, 240.0, 240.0, 240.0, 250.0, 250.0, 250.0, 250.0, 250.0, 250.0, 250.0, 250.0, 250.0, 250.0, 250.0, 250.0, 250.0, 250.0, 250.0, 250.0, 250.0, 250.0, 250.0, 250.0, 250.0, 260.0, 260.0, 260.0, 260.0, 260.0, 260.0, 260.0, 260.0, 260.0, 260.0, 260.0, 260.0, 260.0, 260.0, 260.0, 260.0, 260.0, 260.0, 260.0, 260.0, 260.0, 260.0, 260.0, 260.0, 260.0, 260.0, 260.0, 270.0, 270.0, 270.0, 270.0, 270.0, 270.0, 270.0, 270.0, 270.0, 270.0, 270.0, 270.0, 270.0, 270.0, 270.0, 270.0, 270.0, 270.0, 270.0, 270.0, 270.0, 270.0, 270.0, 270.0, 270.0, 270.0, 280.0, 280.0, 280.0, 280.0, 280.0, 280.0, 280.0, 280.0, 280.0, 280.0, 280.0, 280.0, 280.0, 280.0, 280.0, 280.0, 280.0, 280.0, 280.0, 280.0, 280.0, 280.0, 280.0, 280.0, 290.0, 290.0, 290.0, 290.0, 290.0, 290.0, 290.0, 290.0, 290.0, 290.0, 290.0, 290.0, 290.0, 290.0, 290.0, 290.0, 290.0, 290.0, 290.0, 290.0, 290.0, 290.0, 290.0, 300.0, 300.0, 300.0, 300.0, 300.0, 300.0, 300.0, 300.0, 300.0, 300.0, 300.0, 300.0, 300.0, 300.0, 300.0, 300.0, 300.0, 300.0, 300.0, 300.0, 300.0, 300.0, 300.0, 310.0, 310.0, 310.0, 310.0, 310.0, 310.0, 310.0, 310.0, 310.0, 310.0, 310.0, 310.0, 310.0, 310.0, 310.0, 310.0, 310.0, 310.0, 310.0, 310.0, 310.0, 320.0, 320.0, 320.0, 320.0, 320.0, 320.0, 320.0, 320.0, 320.0, 320.0, 320.0, 320.0, 320.0, 320.0, 320.0, 320.0, 320.0, 320.0, 320.0, 320.0, 320.0, 320.0, 320.0, 330.0, 330.0, 330.0, 330.0, 330.0, 330.0, 330.0, 330.0, 330.0, 330.0, 330.0, 330.0, 330.0, 330.0, 330.0, 330.0, 330.0, 330.0, 330.0, 330.0, 330.0, 330.0, 340.0, 340.0, 340.0, 340.0, 340.0, 340.0, 340.0, 340.0, 340.0, 340.0, 340.0, 340.0, 340.0, 340.0, 340.0, 340.0, 340.0, 350.0, 350.0, 350.0, 350.0, 350.0, 350.0, 350.0, 350.0, 350.0, 350.0, 350.0, 350.0, 350.0, 350.0, 350.0, 350.0, 350.0, 360.0, 360.0, 360.0, 360.0, 360.0, 360.0, 360.0, 360.0, 360.0, 360.0, 360.0, 360.0, 360.0, 360.0, 360.0, 360.0, 360.0, 360.0, 360.0], \"type\": \"scatterpolar\"}],                        {\"legend\": {\"itemsizing\": \"constant\", \"tracegroupgap\": 0}, \"margin\": {\"t\": 60}, \"polar\": {\"angularaxis\": {\"direction\": \"clockwise\", \"rotation\": 90, \"showticklabels\": true, \"ticks\": \"\"}, \"domain\": {\"x\": [0.0, 1.0], \"y\": [0.0, 1.0]}, \"radialaxis\": {\"range\": [0, 45], \"showticklabels\": true, \"ticks\": \"\"}}, \"template\": {}},                        {\"responsive\": true}                    ).then(function(){\n",
       "                            \n",
       "var gd = document.getElementById('295897ef-4383-440a-b441-1286d27503d7');\n",
       "var x = new MutationObserver(function (mutations, observer) {{\n",
       "        var display = window.getComputedStyle(gd).display;\n",
       "        if (!display || display === 'none') {{\n",
       "            console.log([gd, 'removed!']);\n",
       "            Plotly.purge(gd);\n",
       "            observer.disconnect();\n",
       "        }}\n",
       "}});\n",
       "\n",
       "// Listen for the removal of the full notebook cells\n",
       "var notebookContainer = gd.closest('#notebook-container');\n",
       "if (notebookContainer) {{\n",
       "    x.observe(notebookContainer, {childList: true});\n",
       "}}\n",
       "\n",
       "// Listen for the clearing of the current output cell\n",
       "var outputEl = gd.closest('.output');\n",
       "if (outputEl) {{\n",
       "    x.observe(outputEl, {childList: true});\n",
       "}}\n",
       "\n",
       "                        })                };                });            </script>        </div>"
      ]
     },
     "metadata": {},
     "output_type": "display_data"
    }
   ],
   "source": [
    "w = weather[weather['origin'] == 'EWR']\n",
    "w = w.groupby(['wind_dir', 'wind_speed'])\\\n",
    "                .count()\\\n",
    "                .reset_index()\\\n",
    "                .rename(columns={'time_hour': 'count'})\n",
    "\n",
    "\n",
    "import plotly.express as px\n",
    "df = w\n",
    "fig = px.scatter_polar(df, r=\"wind_speed\", theta=\"wind_dir\", size='count')\n",
    "\n",
    "fig.update_layout(\n",
    "    template=None,\n",
    "    polar = dict(\n",
    "        radialaxis = dict(range=[0, 45], showticklabels=True, ticks=''),\n",
    "        angularaxis = dict(showticklabels=True, ticks='')\n",
    "    )\n",
    ")\n",
    "\n",
    "fig.show()"
   ]
  },
  {
   "cell_type": "markdown",
   "metadata": {},
   "source": [
    "Ten ciekawy wykres pokazuje nam jaki wiatr i jak często w ciągu roku wieje w jakim kierunku. <br>\n",
    "Dzięki 'plotly' możemy uzyskać wynik na takiej płaszczyźnie oraz zmienić skale przybliżenia z łatwością"
   ]
  }
 ],
 "metadata": {
  "kernelspec": {
   "display_name": "Python 3",
   "language": "python",
   "name": "python3"
  },
  "language_info": {
   "codemirror_mode": {
    "name": "ipython",
    "version": 3
   },
   "file_extension": ".py",
   "mimetype": "text/x-python",
   "name": "python",
   "nbconvert_exporter": "python",
   "pygments_lexer": "ipython3",
   "version": "3.8.5"
  }
 },
 "nbformat": 4,
 "nbformat_minor": 4
}
